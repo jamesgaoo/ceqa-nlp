{
 "cells": [
  {
   "cell_type": "code",
   "execution_count": 185,
   "id": "1fbf96e9-0ebf-46c3-a3b8-c733a934e29c",
   "metadata": {},
   "outputs": [],
   "source": [
    "#import required packages\n",
    "import nltk\n",
    "import pandas as pd\n",
    "import csv\n",
    "import numpy as np\n",
    "import os\n",
    "from nltk.tokenize import sent_tokenize\n",
    "from nltk.tokenize import word_tokenize\n",
    "from nltk.corpus import stopwords"
   ]
  },
  {
   "cell_type": "code",
   "execution_count": 186,
   "id": "b0a39c71-ad0a-487e-94ee-a3db2719170b",
   "metadata": {},
   "outputs": [
    {
     "data": {
      "text/plain": [
       "'/Users/jamesgao/Documents/Duke Senior Year/Senior Thesis/Analysis/ceqa-nlp'"
      ]
     },
     "execution_count": 186,
     "metadata": {},
     "output_type": "execute_result"
    }
   ],
   "source": [
    "#set working directory\n",
    "os.getcwd()"
   ]
  },
  {
   "cell_type": "code",
   "execution_count": 187,
   "id": "142d0096-840e-492d-9086-12fc00035145",
   "metadata": {
    "scrolled": true
   },
   "outputs": [],
   "source": [
    "#Add more stopwords\n",
    "adtl_stopwords = pd.read_csv(\"./preprocessing/test_stopwords.csv\", header = None)\n",
    "adtl_stopwords = adtl_stopwords.values.tolist()\n",
    "adtl_stopwords = adtl_stopwords[0]"
   ]
  },
  {
   "cell_type": "code",
   "execution_count": 188,
   "id": "e3b8badf-cf7e-4c68-ab52-96dff07e1bd7",
   "metadata": {},
   "outputs": [
    {
     "name": "stdout",
     "output_type": "stream",
     "text": [
      "['i', 'me', 'my', 'myself', 'we', 'our', 'ours', 'ourselves', 'you', \"you're\", \"you've\", \"you'll\", \"you'd\", 'your', 'yours', 'yourself', 'yourselves', 'he', 'him', 'his', 'himself', 'she', \"she's\", 'her', 'hers', 'herself', 'it', \"it's\", 'its', 'itself', 'they', 'them', 'their', 'theirs', 'themselves', 'what', 'which', 'who', 'whom', 'this', 'that', \"that'll\", 'these', 'those', 'am', 'is', 'are', 'was', 'were', 'be', 'been', 'being', 'have', 'has', 'had', 'having', 'do', 'does', 'did', 'doing', 'a', 'an', 'the', 'and', 'but', 'if', 'or', 'because', 'as', 'until', 'while', 'of', 'at', 'by', 'for', 'with', 'about', 'against', 'between', 'into', 'through', 'during', 'before', 'after', 'above', 'below', 'to', 'from', 'up', 'down', 'in', 'out', 'on', 'off', 'over', 'under', 'again', 'further', 'then', 'once', 'here', 'there', 'when', 'where', 'why', 'how', 'all', 'any', 'both', 'each', 'few', 'more', 'most', 'other', 'some', 'such', 'no', 'nor', 'not', 'only', 'own', 'same', 'so', 'than', 'too', 'very', 's', 't', 'can', 'will', 'just', 'don', \"don't\", 'should', \"should've\", 'now', 'd', 'll', 'm', 'o', 're', 've', 'y', 'ain', 'aren', \"aren't\", 'couldn', \"couldn't\", 'didn', \"didn't\", 'doesn', \"doesn't\", 'hadn', \"hadn't\", 'hasn', \"hasn't\", 'haven', \"haven't\", 'isn', \"isn't\", 'ma', 'mightn', \"mightn't\", 'mustn', \"mustn't\", 'needn', \"needn't\", 'shan', \"shan't\", 'shouldn', \"shouldn't\", 'wasn', \"wasn't\", 'weren', \"weren't\", 'won', \"won't\", 'wouldn', \"wouldn't\", 1, 2, 3, 4, 5, 6, 7, 8, 9, 10, 11, 12, 13, 14, 15, 16, 17, 18, 19, 20, 21, 22, 23, 24, 25, 26, 27, 28, 29, 30, 31, 32, 33, 34, 35, 36, 37, 38, 39, 40, 41, 42, 43, 44, 45, 46, 47, 48, 49, 50, 51, 52, 53, 54, 55, 56, 57, 58, 59, 60, 61, 62, 63, 64, 65, 66, 67, 68, 69, 70, 71, 72, 73, 74, 75, 76, 77, 78, 79, 80, 81, 82, 83, 84, 85, 86, 87, 88, 89, 90, 91, 92, 93, 94, 95, 96, 97, 98, 99, 100, 2000, 2001, 2002, 2003, 2004, 2005, 2006, 2007, 2008, 2009, 2010, 2011, 2012, 2013, 2014, 2015, 2016, 2017, 2018, 2019, 2020, 2021, 2022, 2023, 2024, 2025, 2026, 2027, 2028, 2029, 2030, 2031, 2032, 2033, 2034, 2035, 2036, 2037, 2038, 2039, 2040]\n"
     ]
    }
   ],
   "source": [
    "default_stopwords = stopwords.words('english')\n",
    "default_stopwords.extend(adtl_stopwords)\n",
    "print(default_stopwords)"
   ]
  },
  {
   "cell_type": "code",
   "execution_count": 189,
   "id": "097616d3-b692-44eb-9893-c502c07cae68",
   "metadata": {},
   "outputs": [],
   "source": [
    "content = open(r\"./data/CEQA 2018-2022 (Text)/TEST1.txt\", \"r\")\n",
    "content = content.read()"
   ]
  },
  {
   "cell_type": "code",
   "execution_count": 190,
   "id": "f47d02d4-14d4-43fb-aa3f-d4e1c10060cf",
   "metadata": {},
   "outputs": [
    {
     "name": "stdout",
     "output_type": "stream",
     "text": [
      "Petitioners are bringing this action to prevent RespondentsDefendants California Department of Public Health Karen L Smith and Orange County Needle Exchange Program collectively Respondents from instituting a needle exchange program that does not comport with the legal requirements necessary to ensure the health and safety of the public at large Indeed the needle exchange program authorized to commence on August poses a serious threat to the health and safety of the citizens of Orange County This action also challenges the Orange County Needle Exchange Programs violation of the California Medical Waste Management Act asa medical waste generator Finally this action challenges the violation of the CaliforniaOFFICE OE THE OP UNTIKN C GLNSEL Environmental Quality Act CEQA by Respondents California Department of Public Health and Karen L Smith hereinafter State Respondents because they have entirely failed to performthe required environmental review needed for the collection and as disposal of used needles as wellthe violation of the California Medical Waste Management Act by Respondent Orange County Needle Exchange Program OCNEP for failing to meet the necessary requirements as a medical waste generator PARTIES Petitioner and plaintiff County of Orange County is and at all times herein mentioned was a political subdivision of the State of California and is a chartered county with the legal ability to sue and be sued Gov Code and Under the Charter with a few exceptions the general law of the State of California applies to the County The Board of Supervisors is the legislative body that governs the County and through which the County exercises its powers including the management of litigation Gov Code On While authorized to commence on August OCNEP has agreed that it will not commence operations until September  August in an open session the Orange County Board of Supervisors authorized theinitiation of this litigation Petitioner and plaintiff Orange County Flood Control District is and at all times herein mentioned was a body corporate and politic of the State of California organized and existing under the Orange County Flood Control Act Chapter of the State of California Statutes of as amended Among its powers is the ability to sue and be sued Wat Code c App b The Board of Supervisors of the County of Orange also sits as the Board ofSupervisors for the Orange County Flood Control District Petitioner and plaintiff City of Costa Mesa is and at all times herein mentioned was a municipal corporation and a city and empowered by the Constitution of the State of California to enact local ordinances for the protection of the local health benefit and welfare The City of CostaFFICEOETHE SOP HEE N C PIL NSEL Mesa was incorporated in and is located in Orange County California On August the City Council of the City of Costa Mesa in open session authorized the City Attorney to join in the Countys litigation against the California Department of Public Health and the Orange CountyNeedle Exchange Program by a vote of Petitioner and plaintiff City of Orange is and at all times herein mentioned was a municipal corporation and a city and empowered by the Constitution of the State of California to enact local ordinances for the protection of the local health benefit and welfare The City of Orange is located in Orange County California On August the City of Orange City Council in closed session as reported out by its City Attorney authorized the initiation of thislitigation Petitioner and plaintiff City of Anaheim is and at all times mentioned herein was a municipal corporation and a charter city and empowered by the Constitution of the State ofCalifornia to enact local ordinances for the protection of the local health benefit and welfare The City of Anaheim is located in Orange County California On August the City Council of Anaheim in closed session as reported out by its City Attorney authorized the initiation of thislitigation  Respondent and Defendant California Department of Public Health CDPH is and at all times herein a mentioned was a state department within the California Health and Human Services Agency and was created under the laws and regulations of the State of California Health Safety Code CDPH is charged with implementing Health and Safety Code section et seq Respondent and Defendant Karen L Smith Smith is and at all times herein mentioned was the Director of CDPH and the State Public Health Officer Smith is sued in her official capacity As the Director of CDPH she has the legal duty to ensure that CDPH complies with Health Safety Code section et seq andor other applicable laws which may include but is not limited to the California Environmental Quality Act Petitioners are informed and believe and thereon allege that Respondent andOFFICEFTHE COI EICIUIEL Defendant Orange County Needle Exchange Program is California corporation that recently applied to CDPH to distribute syringes to intravenous drug users in the Coun\n"
     ]
    }
   ],
   "source": [
    "### Remove punctuation and numbers\n",
    "content = re.sub(\"[0-9]\", \"\", content) #Removes numbers\n",
    "content = re.sub(r\"[\\.,?!()-;:@§'%\\[\\]•_=&<>®\\\"]\", \"\", content) #Removes extraneous punctuation\n",
    "content = re.sub(r\"\\n\",\"\", content) #Removes extraneous line breaks\n",
    "content = re.sub(r\"^$n','\\n\", \"\", content, re.MULTILINE) #Removes empty lines\n",
    "content = re.sub(\" +\", \" \", content) #Removes multiple whitesplaces\n",
    "#Remove extraneous information about lawyers and case detail that doesn't impact the content of the case\n",
    "starting_phrase = \"PRELIMINARY STATEMENT\" #Use this as the starter for when the actual lawsuit begins\n",
    "remove_before = r'^.*?{}'.format(re.escape(starting_phrase))\n",
    "content = re.sub(remove_before, \"\", content, flags=re.DOTALL)\n",
    "#Remove \"FIRST AMENDED COMPLAINT\", which is at the bottom of every page\n",
    "content = re.sub(r\"FIRST AMENDED COMPLAINT\", \"\", content)\n",
    "print(content[0:5000])"
   ]
  }
 ],
 "metadata": {
  "kernelspec": {
   "display_name": "Python 3 (ipykernel)",
   "language": "python",
   "name": "python3"
  },
  "language_info": {
   "codemirror_mode": {
    "name": "ipython",
    "version": 3
   },
   "file_extension": ".py",
   "mimetype": "text/x-python",
   "name": "python",
   "nbconvert_exporter": "python",
   "pygments_lexer": "ipython3",
   "version": "3.12.0"
  }
 },
 "nbformat": 4,
 "nbformat_minor": 5
}
