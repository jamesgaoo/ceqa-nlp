{
 "cells": [
  {
   "cell_type": "code",
   "execution_count": 207,
   "id": "1fbf96e9-0ebf-46c3-a3b8-c733a934e29c",
   "metadata": {},
   "outputs": [],
   "source": [
    "#import required packages\n",
    "import nltk\n",
    "import pandas as pd\n",
    "import csv\n",
    "import re\n",
    "import numpy as np\n",
    "import os\n",
    "from nltk.tokenize import sent_tokenize\n",
    "from nltk.tokenize import word_tokenize\n",
    "from nltk import ngrams"
   ]
  },
  {
   "cell_type": "code",
   "execution_count": 208,
   "id": "142d0096-840e-492d-9086-12fc00035145",
   "metadata": {
    "scrolled": true
   },
   "outputs": [
    {
     "name": "stdout",
     "output_type": "stream",
     "text": [
      "['i', 'me', 'my', 'myself', 'we', 'our', 'ours', 'ourselves', 'you', \"you're\", \"you've\", \"you'll\", \"you'd\", 'your', 'yours', 'yourself', 'yourselves', 'he', 'him', 'his', 'himself', 'she', \"she's\", 'her', 'hers', 'herself', 'it', \"it's\", 'its', 'itself', 'they', 'them', 'their', 'theirs', 'themselves', 'what', 'which', 'who', 'whom', 'this', 'that', \"that'll\", 'these', 'those', 'am', 'is', 'are', 'was', 'were', 'be', 'been', 'being', 'have', 'has', 'had', 'having', 'do', 'does', 'did', 'doing', 'a', 'an', 'the', 'and', 'but', 'if', 'or', 'because', 'as', 'until', 'while', 'of', 'at', 'by', 'for', 'with', 'about', 'against', 'between', 'into', 'through', 'during', 'before', 'after', 'above', 'below', 'to', 'from', 'up', 'down', 'in', 'out', 'on', 'off', 'over', 'under', 'again', 'further', 'then', 'once', 'here', 'there', 'when', 'where', 'why', 'how', 'all', 'any', 'both', 'each', 'few', 'more', 'most', 'other', 'some', 'such', 'no', 'nor', 'not', 'only', 'own', 'same', 'so', 'than', 'too', 'very', 's', 't', 'can', 'will', 'just', 'don', \"don't\", 'should', \"should've\", 'now', 'd', 'll', 'm', 'o', 're', 've', 'y', 'ain', 'aren', \"aren't\", 'couldn', \"couldn't\", 'didn', \"didn't\", 'doesn', \"doesn't\", 'hadn', \"hadn't\", 'hasn', \"hasn't\", 'haven', \"haven't\", 'isn', \"isn't\", 'ma', 'mightn', \"mightn't\", 'mustn', \"mustn't\", 'needn', \"needn't\", 'shan', \"shan't\", 'shouldn', \"shouldn't\", 'wasn', \"wasn't\", 'weren', \"weren't\", 'won', \"won't\", 'wouldn', \"wouldn't\", 'could', 'would', 'esq', 'also', 'may', 'plaintiff', 'petitioner', 'defendant', 'respondent', 'action', nan]\n"
     ]
    }
   ],
   "source": [
    "from nltk.corpus import stopwords\n",
    "#Add more stopwords\n",
    "adtl_stopwords = pd.read_csv(\"./preprocessing/test_stopwords.csv\", header = None)\n",
    "adtl_stopwords = adtl_stopwords.values.tolist()\n",
    "adtl_stopwords = adtl_stopwords[0]\n",
    "\n",
    "#Combine with default stopwords list\n",
    "stopwords_def = stopwords.words('english')\n",
    "stopwords_def.extend(adtl_stopwords)\n",
    "print(stopwords_def)"
   ]
  },
  {
   "cell_type": "code",
   "execution_count": 241,
   "id": "097616d3-b692-44eb-9893-c502c07cae68",
   "metadata": {},
   "outputs": [],
   "source": [
    "#Open sample case (CEQA: 04672)\n",
    "draft_case = open(r\"./data/TEST1.txt\", \"r\")\n",
    "draft_case_original = draft_case.read()\n",
    "draft_case = draft_case_original"
   ]
  },
  {
   "cell_type": "code",
   "execution_count": 242,
   "id": "f47d02d4-14d4-43fb-aa3f-d4e1c10060cf",
   "metadata": {
    "scrolled": true
   },
   "outputs": [
    {
     "name": "stdout",
     "output_type": "stream",
     "text": [
      "Petitioners are bringing this action prevent Respondents Defendants California Department Public Health Karen Smith and Orange County Needle Exchange Program collectively Respondents from instituting needle exchange program that does not comport with the legal requirements necessary ensure the health and safety the public large Indeed the needle exchange program authorized commence August poses serious threat the health and safety the citizens Orange County This action also challenges the Orange County Needle Exchange Program violation the California Medical Waste Management Act medical waste generator Finally this action challenges the violation the California OFFICE THE UNTIKN GLNSEL Environmental Quality Act CEQA Respondents California Department Public Health and Karen Smith hereinafter State Respondents because they have entirely failed performthe required environmental review needed for the collection and disposal used needles wellthe violation the California Medical Waste Management Act Respondent Orange County Needle Exchange Program OCNEP for failing meet the necessary requirements medical waste generator PARTIES Petitioner and plaintiff County Orange County and all times herein mentioned was political subdivision the State California and chartered county with the legal ability sue and sued Gov Code and Under the Charter with few exceptions the general law the State California applies the County The Board Supervisors the legislative body that governs the County and through which the County exercises its powers including the management litigation Gov Code While authorized commence August OCNEP has agreed that will not commence operations until September August open session the Orange County Board Supervisors authorized theinitiation this litigation Petitioner and plaintiff Orange County Flood Control District and all times herein mentioned was body corporate and politic the State California organized and existing under the Orange County Flood Control Act Chapter the State California Statutes amended Among its powers the ability sue and sued Wat Code App The Board Supervisors the County Orange also sits the Board Supervisors for the Orange County Flood Control District Petitioner and plaintiff City Costa Mesa and all times herein mentioned was municipal corporation and city and empowered the Constitution the State California enact local ordinances for the protection the local health benefit and welfare The City Costa FFICEOETHE SOP HEE PIL NSEL Mesa was incorporated and located Orange County California August the City Council the City Costa Mesa open session authorized the City Attorney join the County litigation against the California Department Public Health and the Orange County Needle Exchange Program vote Petitioner and plaintiff City Orange and all times herein mentioned was municipal corporation and city and empowered the Constitution the State California enact local ordinances for the protection the local health benefit and welfare The City Orange located Orange County California August the City Orange City Council closed session reported out its City Attorney authorized the initiation thislitigation Petitioner and plaintiff City Anaheim and all times mentioned herein was municipal corporation and charter city and empowered the Constitution the State California enact local ordinances for the protection the local health benefit and welfare The City Anaheim located Orange County California August the City Council Anaheim closed session reported out its City Attorney authorized the initiation thislitigation Respondent and Defendant California Department Public Health CDPH and all times herein mentioned was state department within the California Health and Human Services Agency and was created under the laws and regulations the State California Health Safety Code CDPH charged with implementing Health and Safety Code section seq Respondent and Defendant Karen Smith Smith and all times herein mentioned was the Director CDPH and the State Public Health Officer Smith sued her official capacity the Director CDPH she has the legal duty ensure that CDPH complies with Health Safety Code section seq and other applicable laws which may include but not limited the California Environmental Quality Act Petitioners are informed and believe and thereon allege that Respondent and OFFICEFTHE COI EICIUIEL Defendant Orange County Needle Exchange Program California corporation that recently applied CDPH distribute syringes intravenous drug users the County Orange Respondents and Defendants Does through are were the agents employees contractors alter egos and entities acting under the authority each other respondent and defendant real party interest and each performed acts which this action based within the cause and scope such agency and employment Petitioners not know the true names and capacities whether individual corporate otherwise Does through inclusive and therefore sue said respondents and defendants under fictitious names Petitioners will amend their Complaint and Petition show their true names and capacities when they have been ascertained JURISDICTION AND VENUE This court has jurisdiction pursuant section article the California Constitution and Code Civil Procedure sections and Venue proper with this court Petitioners have asserted claims against department the State California and officer the State her official capacity and this action has been filed county which the Attorney General maintains offices pursuant Code Civil Procedure section BACKGROUND ACTION Statutorv and Regulatory Background California Medical Waste Management Act Part Division the Health and Safety Code commencing with Section known the Medical Waste Management Act Health Saf Code seq All medical waste generators including small quantity generators within the County Orange must register with seek approval from maintain certain documentation and records with the County Orange Health Care Agency Environmental Health HC\n"
     ]
    }
   ],
   "source": [
    "#Use regex to do a preliminary cleaning of the content\n",
    "### Remove punctuation and numbers\n",
    "draft_case = re.sub(\"[0-9]\", \"\", draft_case) #Removes numbers\n",
    "draft_case = re.sub(r\"\\/\", \" \", draft_case) #Replaces slashes with spaces\n",
    "draft_case = re.sub(r\"\\'\", \" \", draft_case) #Replaces apostrophes with spaces\n",
    "draft_case = re.sub(r\"\\-\", \" \", draft_case) #Replaces en-dash with spaces\n",
    "draft_case = re.sub(r\"\\–\", \" \", draft_case) #Replaces em-dash with spaces\n",
    "draft_case = re.sub(r\"[.,?!()•$;:@§%&~\\[\\]\\\"]\", \"\", draft_case) #Removes extraneous punctuation\n",
    "draft_case = re.sub(r\"^$n','\\n\", \"\", draft_case, re.MULTILINE) #Removes empty lines\n",
    "draft_case = re.sub(r\"\\b\\w{1,2}\\b\", '', draft_case) #Removes all one and two-character words (none have meaning)\n",
    "draft_case = re.sub(r\"\\n\",\"\", draft_case) #Removes extraneous line breaks\n",
    "\n",
    "#Remove extraneous information about lawyers and case detail that doesn't impact the content of the case\n",
    "starting_phrase = \"PRELIMINARY STATEMENT\" #Use this as the starter for when the actual lawsuit begins\n",
    "remove_before = r'^.*?{}'.format(re.escape(starting_phrase))\n",
    "draft_case = re.sub(remove_before, \"\", draft_case, flags=re.DOTALL)\n",
    "\n",
    "#Remove \"FIRST AMENDED COMPLAINT\", which is at the bottom of every page\n",
    "draft_case = re.sub(r\"FIRST AMENDED COMPLAINT\", \"\", draft_case)\n",
    "\n",
    "#These steps are done last since other words' removal will impact them\n",
    "draft_case = re.sub(r\"\\s+\", \" \", draft_case) #Removes multiple whitespaces\n",
    "draft_case = re.sub(r\"([a-z])([A-Z])\", r\"\\1 \\2\", draft_case) #Separates words that were joined together by double spaces\n",
    "print(draft_case[0:6000])"
   ]
  },
  {
   "cell_type": "code",
   "execution_count": 243,
   "id": "6a8f2619-f68e-43ff-b347-7c288564fa40",
   "metadata": {},
   "outputs": [
    {
     "name": "stdout",
     "output_type": "stream",
     "text": [
      "[(('theodore', 'luckham'), 12.638186995945642), (('defic', 'syndr'), 12.375152590111849), (('acquir', 'immune'), 12.375152590111846), (('cross', 'ref'), 12.375152590111846), (('immune', 'defic'), 12.375152590111846), (('armstrong', 'petroleum'), 12.36317994844577), (('penalty', 'perjury'), 12.259675372691909), (('steering', 'committee'), 12.23764906636191), (('material', 'objected'), 12.053224495224484), (('kyle', 'barbour'), 11.960115090833005), (('tracking', '#'), 11.960115090833005), (('pacific', 'islander'), 11.712187577389418), (('administrative', 'remedies'), 11.638186995945642), (('fully', 'prepaid'), 11.500683472195705), (('los', 'angeles'), 11.43655313477599), (('declaratory', 'relief'), 11.375152590111846), (('des', 'jarlais'), 11.152760168775398), (('infectious', 'diseases'), 11.123613823115884), (('david', 'valentin'), 11.112118184278053), (('beyond', 'permissible'), 11.053224495224484), (('crossref', 'google'), 11.053224495224484), (('intent', 'file'), 11.053224495224484), (('human', 'immunodeficiency'), 11.015256645025463), (('google', 'scholar'), 10.998776711202106), (('blood', 'borne'), 10.94219318283574), (('immunodeficiency', 'virus'), 10.868415256696192), (('permissible', 'scope'), 10.78352635910968), (('processing', 'correspondence'), 10.735148725832728), (('race', 'ethnicity'), 10.691768036150487), (('notice', 'intent'), 10.674712871970755), (('river', 'trail'), 10.645800180055517), (('return', 'investment'), 10.613158201454118), (('hereto', 'exhibit'), 10.577196366056492), (('carol', 'crump'), 10.572959373170022), (('blvd', 'suite'), 10.500683472195705), (('sober', 'living'), 10.500683472195705), (('long', 'beach'), 10.474102873092388), (('real', 'party'), 10.472449791466762), (('superior', 'court'), 10.46826199450333), (('set', 'forth'), 10.417635921433362), (('fail', 'matter'), 10.409918008272525), (('karen', 'smith'), 10.390259482502055), (('opinion', 'lacks'), 10.30476326222045), (('inject', 'drugs'), 10.299385082493883), (('attached', 'hereto'), 10.266628133333679), (('san', 'francisco'), 10.259675372691913), (('san', 'diego'), 10.25967537269191), (('sex', 'birth'), 10.16870171264442), (('improper', 'matter'), 10.166463971408247), (('box', 'sacramento'), 10.130392355746947), (('https', 'wwwncbinlmnihgov'), 10.130392355746945), (('smith', 'mph'), 10.09629321711637), (('safer', 'sex'), 10.089750371249599), (('plan', 'described'), 10.05804151152226), (('hrh', 'heterosexual'), 10.053224495224487), (('opioid', 'overdose'), 10.053224495224486), (('newport', 'beach'), 10.047686311683053), (('management', 'act'), 10.04125185355841), (('party', 'interest'), 10.019277163301147), (('upon', 'improper'), 10.003593727499883), (('economic', 'evaluation'), 9.997797435890694), (('cost', 'saving'), 9.960115090833003), (('expert', 'unqualified'), 9.91572097147455), (('board', 'supervisors'), 9.902123368073827), (('robert', 'sharpnack'), 9.89402590037523), (('enforcement', 'officials'), 9.872652249582666), (('med', 'cross'), 9.830832073888038), (('enforcement', 'leadership'), 9.802262921691266), (('pub', 'med'), 9.78352635910968), (('level', 'economic'), 9.76509910842786), (('environmental', 'quality'), 9.745795970032239), (('quality', 'act'), 9.745795970032239), (('united', 'states'), 9.69708068499921), (('safe', 'recovery'), 9.674712871970756), (('newly', 'diagnosed'), 9.657349253032535), (('flood', 'control'), 9.62026508794838), (('crump', 'carol'), 9.572959373170022), (('articles', 'pmc'), 9.530067278976802), (('view', 'article'), 9.508903979000676), (('four', 'cities'), 9.504787870528444), (('correct', 'copy'), 9.496375630712242), (('lew', 'decl'), 9.484381659866607), (('pmc', 'articles'), 9.482761564198444), (('expert', 'testimony'), 9.479621856667876), (('under', 'penalty'), 9.468261994503328), (('years', 'old'), 9.409368305449762), (('cause', 'action'), 9.407332995860997), (('wwwncbinlmnihgov', 'pmc'), 9.397872666611931), (('mph', 'director'), 9.393768268279192), (('evidence', 'rule'), 9.383267408843738), (('cost', 'effectiveness'), 9.375152590111849), (('law', 'enforcement'), 9.363240781868685), (('file', 'ceqa'), 9.33333241441722), (('base', 'case'), 9.298336993061017), (('postal', 'service'), 9.27616349548048), (('non', 'hrh'), 9.25967537269191), (('sharps', 'containers'), 9.253846293889714), (('harm', 'reduction'), 9.249144705199742), (('its', 'entirety'), 9.24586957316688), (('senior', 'deputy'), 9.232194636269803), (('heterosexual', 'contact'), 9.229475134916212), (('perjury', 'under'), 9.227253894999533), (('staff', 'peers'), 9.221715711458103), (('who', 'inject'), 9.218648104431855), (('control', 'subjects'), 9.205227588669535), (('lgbt', 'center'), 9.191930766056078), (('bounded', 'west'), 9.185927032710598), (('surveillance', 'report'), 9.185674791248134), (('peers', 'volunteers'), 9.177746852247427), (('waste', 'management'), 9.156729070978344), (('brian', 'lew'), 9.136458356446298), (('civic', 'center'), 9.120672082886257), (('attorney', 'general'), 9.118812836852063), (('national', 'level'), 9.1173548326442), (('proof', 'service'), 9.069712618013053), (('area', 'bounded'), 9.06529732752506), (('idu', 'associated'), 9.046169737690533), (('care', 'agency'), 9.042842476697365), (('injunction', 'ctl'), 9.035302587227221), (('via', 'email'), 9.023477151830434), (('court', 'issue'), 9.008830375866033), (('new', 'york'), 9.005918780446128), (('transmission', 'category'), 9.005918780446128), (('expert', 'opinion'), 8.974614660528117), (('medical', 'waste'), 8.970168755496928), (('best', 'evidence'), 8.950862777594807), (('use', 'disorder'), 8.934336649641896), (('preliminary', 'injunction'), 8.93324588556961), (('foundation', 'lack'), 8.887749104821014), (('opposition', 'motion'), 8.881043519841803), (('objections', 'support'), 8.877125726161971), (('knowledge', 'speculative'), 8.80797940283422), (('case', 'patients'), 8.762284092820806), (('declare', 'under'), 8.757768611698312), (('comment', 'period'), 8.750661725204052), (('free', 'article'), 8.731296400337122), (('respondents', 'defendants'), 8.715110972596182), (('lack', 'personal'), 8.714172222545916), (('access', 'sterile'), 8.712187577389416), (('costa', 'mesa'), 8.705921172493088), (('based', 'upon'), 8.70272724814035), (('prevention', 'branch'), 8.693328550138101), (('true', 'copy'), 8.64932755355084), (('substance', 'use'), 8.648934430779649), (('described', 'section'), 8.646476204150224), (('article', 'google'), 8.63176072678621), (('personal', 'knowledge'), 8.629542901536388), (('pmc', 'free'), 8.620265087948379), (('chief', 'robert'), 8.583238363093068), (('support', 'opposition'), 8.552030352195926), (('policy', 'intervention'), 8.551856124185223), (('business', 'address'), 8.534613061520538), (('less', 'than'), 8.517171594984275), (('anaheim', 'boulevard'), 8.511904905804773), (('permanent', 'injunction'), 8.504787870528443), (('dated', 'august'), 8.500098081625335), (('impact', 'evaluation'), 8.474956647077338), (('disease', 'control'), 8.43969284230656), (('article', 'pub'), 8.42095627972497), (('policy', 'change'), 8.333021522261964), (('states', 'national'), 8.256757889309617), (('decl', 'exh'), 8.252755958752122), (('abuse', 'treatment'), 8.252128563638562), (('infections', 'averted'), 8.187863969731314), (('association', 'between'), 8.143131467577625), (('sharpnack', 'hearsay'), 8.137037403229463), (('community', 'members'), 8.10326517772408), (('control', 'district'), 8.07594457172457), (('sharpnack', 'foundation'), 8.069923207370927), (('washington', 'page'), 8.035302587227221), (('declaration', 'exh'), 8.00069267073933), (('hypodermic', 'needles'), 7.9977974358906945), (('same', 'day'), 7.982835167333086), (('injection', 'equipment'), 7.961994824051226), (('opinion', 'based'), 7.939766445441201), (('august', 'served'), 7.926233289787509), (('high', 'risk'), 7.923941478279518), (('seq', 'sustained'), 7.917709524568004), (('per', 'week'), 7.912991178718979), (('matter', 'law'), 7.870759197164494), (('housing', 'services'), 7.859452751827806), (('prevention', 'washington'), 7.8568272824209835), (('santa', 'ana'), 7.850021275083094), (('because', 'they'), 7.848979420598296), (('will', 'fail'), 7.836732675327722), (('contact', 'non'), 7.8364639419673665), (('ana', 'river'), 7.784565540196812), (('million', 'million'), 7.778217447724616), (('persons', 'living'), 7.753449542575675), (('among', 'injecting'), 7.735742305368314), (('treatment', 'costs'), 7.731296400337124), (('risk', 'factors'), 7.731296400337122), (('chief', 'david'), 7.685853429575955), (('did', 'not'), 7.646325065389318), (('hearsay', 'evid'), 7.6288536062337915), (('speculative', 'sustained'), 7.615819182917189), (('evaluation', 'policy'), 7.611018196653367), (('unknown', 'risk'), 7.593792876587187), (('viral', 'hepatitis'), 7.551881861089555), (('relevance', 'evid'), 7.545303030267155), (('office', 'aids'), 7.543950926099875), (('drug', 'users'), 7.532514850782983), (('more', 'than'), 7.5308034605720415), (('people', 'who'), 7.530592110746596), (('per', 'month'), 7.529662539167472), (('=', '='), 7.52834259850734), (('its', 'participants'), 7.520044536605873), (('chronic', 'hepatitis'), 7.508354485548637), (('sharps', 'waste'), 7.500683472195707), (('homeless', 'population'), 7.500683472195705), (('rule', 'evid'), 7.47576209701408), (('will', 'continue'), 7.407889376523846), (('testimony', 'evid'), 7.3806999000424724), (('does', 'not'), 7.373941157476313), (('not', 'limited'), 7.358344302425294), (('unqualified', 'evid'), 7.351479761127479), (('annual', 'number'), 7.339528680381125), (('drug', 'abuse'), 7.338521051815464), (('intravenous', 'drug'), 7.338521051815464), (('incidence', 'among'), 7.312142792586048), (('operate', 'mobile'), 7.307503897782526), (('pmc', 'impact'), 7.298336993061016), (('injecting', 'drug'), 7.27712050715132), (('deputy', 'attorney'), 7.265361500205003), (('sharps', 'disposal'), 7.259675372691911), (('saf', 'code'), 7.252755958752122), (('local', 'law'), 7.2510312782826585), (('authentication', 'evid'), 7.208875365684678), (('table', 'persons'), 7.18313381781892), (('exh', 'knowledge'), 7.173028766281387), (('hepatitis', 'virus'), 7.1550622197519385), (('injections', 'per'), 7.1511509159137425), (('rate', 'rate'), 7.144198155271978), (('disposal', 'used'), 7.139791053749194), (('page', 'table'), 7.134838260778137), (('all', 'times'), 7.102911619324839), (('chief', 'police'), 7.100890928854799), (('health', 'saf'), 7.065297327525061), (('evid', 'objections'), 7.058432786227245), (('declaration', 'foundation'), 7.056752629859927), (('public', 'comment'), 7.048614547241076), (('seq', 'overruled'), 7.038003758285715), (('risk', 'heterosexual'), 7.008830375866033), (('accordance', 'with'), 6.9322090942631185), (('comply', 'with'), 6.9322090942631185), (('familiar', 'with'), 6.932209094263117), (('injection', 'drug'), 6.918039413846492), (('has', 'been'), 6.9077940557029205), (('have', 'been'), 6.90035107251736), (('syringe', 'litter'), 6.890441563026194), (('code', 'subd'), 6.8628094404361075), (('basis', 'evid'), 6.8489794205982975), (('city', 'manager'), 6.834517120695894), (('ana', 'civic'), 6.827378623735786), (('york', 'city'), 6.801602498223156), (('syringe', 'supply'), 6.7846468990035955), (('knowledge', 'sustained'), 6.777100089950247), (('health', 'officer'), 6.767616778884376), (('among', 'people'), 6.739564016320724), (('allege', 'that'), 6.728893910121817), (('county', 'flood'), 6.718131941138676), (('discarded', 'syringes'), 6.712187577389418), (('pierce', 'county'), 6.6774899566413275), (('discarded', 'needles'), 6.67135385988084), (('persons', 'who'), 6.664059252754219), (('proposed', 'area'), 6.650259828246218), (('infection', 'year'), 6.647232135548649), (('pwid', 'population'), 6.638186995945643), (('health', 'jurisdictions'), 6.617838350553837), (('number', 'injections'), 6.602563086214918), (('with', 'postage'), 6.584285790842811), (('code', 'seq'), 6.564699965066861), (('time', 'period'), 6.520945322066362), (('needle', 'exchange'), 6.5116545900167075), (('hiv', 'infection'), 6.508578595762618), (('speculative', 'evid'), 6.50021514073862), (('evid', 'code'), 6.495869670462653), (('code', 'section'), 6.462679028126354), (('objections', 'declaration'), 6.441265262125311), (('county', 'counsel'), 6.438024021945941), (('city', 'attorney'), 6.414678635153226), (('health', 'box'), 6.39544592921739), (('orange', 'county'), 6.374122271660696), (('this', 'court'), 6.372739383459038), (('drug', 'use'), 6.369484525299981), (('hiv', 'surveillance'), 6.3670831601359605), (('per', 'pwid'), 6.354090974584016), (('pwid', 'per'), 6.354090974584016), (('sustained', 'speculative'), 6.352784777083393), (('application', 'process'), 6.350566951833574), (('hiv', 'incidence'), 6.347025507794706), (('per', 'population'), 6.337017461225077), (('police', 'department'), 6.3081274962538245), (('clean', 'needle'), 6.307107202688748), (('per', 'year'), 6.266628133333677), (('sterile', 'syringes'), 6.264728600418195), (('diagnosed', 'hiv'), 6.231842687894597), (('used', 'syringes'), 6.227389238593695), (('matter', 'evid'), 6.205672933646337), (('public', 'resources'), 6.198453056572804), (('exchange', 'program'), 6.175004989422579), (('cost', 'per'), 6.173518728942197), (('centers', 'for'), 6.170581445862643), (('per', 'day'), 6.141097251249818), (('public', 'health'), 6.118911837438194), (('support', 'motion'), 6.114625039888628), (('needles', 'found'), 6.096445023823609), (('resources', 'code'), 6.09521468176564), (('state', 'respondents'), 6.082575318956897), (('mesa', 'police'), 6.0796967065856755), (('attorneys', 'for'), 6.067487952898542), (('code', 'regulations'), 6.0601108808097255), (('lew', 'declaration'), 6.035921159050313), (('california', 'department'), 6.0339250091335295), (('personal', 'declaration'), 6.019801493687035), (('motion', 'for'), 6.002458687054315), (('declaration', 'support'), 5.988092633959699), (('not', 'party'), 5.976473667081647), (('syringe', 'exchange'), 5.951536160273033), (('mobile', 'sep'), 5.950922666552282), (('cases', 'rate'), 5.949820110105126), (('users', 'new'), 5.9436345021917845), (('hiv', 'prevention'), 5.935132277920772), (('work', 'with'), 5.93220909426312), (('petitioners', 'are'), 5.920373506227591), (('health', 'care'), 5.910019102047148), (('nsp', 'syringes'), 5.894564319877986), (('department', 'public'), 5.8853858932991265), (('safety', 'code'), 5.880787181365164), (('infection', 'among'), 5.869624556885098), (('may', 'have'), 5.867622203973948), (('for', 'preliminary'), 5.838505395599199), (('nsp', 'syringe'), 5.838353051877737), (('they', 'would'), 5.830363742430949), (('number', 'new'), 5.818291777270357), (('among', 'pwid'), 5.790190089390693), (('spread', 'hiv'), 5.786937675712581), (('sacramento', 'california'), 5.72439999607111), (('with', 'diagnosed'), 5.709816672926671), (('california', 'environmental'), 5.702373689741108), (('county', 'board'), 5.699516262971327), (('consultation', 'with'), 5.691200994759322), (('rate', 'cases'), 5.68678570427133), (('associated', 'with'), 5.662119930895374), (('state', 'california'), 5.634762783586433), (('all', 'its'), 5.633426336023616), (('day', 'public'), 5.623474644424267), (('code', 'overruled'), 5.587174997822681), (('public', 'library'), 5.564580955370699), (('living', 'with'), 5.560240316876161), (('hiv', 'testing'), 5.521445526454933), (('city', 'santa'), 5.490446142771194), (('sustained', 'evid'), 5.471909771518472), (('intervention', 'for'), 5.4506893650553785), (('application', 'operate'), 5.423270145563217), (('seps', 'are'), 5.408967612476518), (('county', 'needle'), 5.3903272799146436), (('waste', 'from'), 5.38734199911976), (('ocnep', 'application'), 5.385795440144555), (('copy', 'this'), 5.367938397195216), (('need', 'for'), 5.3225845393076945), (('for', 'mailing'), 5.322584539307693), (('number', 'infections'), 5.309781336987074), (('city', 'costa'), 5.2970017823771975), (('this', 'study'), 5.279629979067558), (('associated', 'hiv'), 5.2159820329853055), (('local', 'health'), 5.19082820960892), (('they', 'are'), 5.12755467732787), (('with', 'ceqa'), 5.124854172205515), (('treatment', 'services'), 5.122487157661597), (('request', 'for'), 5.116133661840266), (('public', 'safety'), 5.105149336733403), (('for', 'disease'), 5.083118604612304), (('exchange', 'programs'), 5.07521461400564), (('hiv', 'infections'), 5.074301410908115), (('related', 'hiv'), 5.062572118326008), (('for', 'certification'), 5.05510422844271), (('pmc', 'syringe'), 5.053091900670751), (('city', 'anaheim'), 5.0524732871674765), (('injections', 'with'), 5.039124298179631), (('among', 'injection'), 5.023024257448784), (('needles', 'per'), 5.010288380073895), (('will', 'increase'), 4.993753843539395), (('mobile', 'needle'), 4.989586209324166), (('ocnep', 'proposed'), 4.986882000395788), (('hiv', 'cases'), 4.951734768701861), (('among', 'other'), 4.948887835409751), (('street', 'santa'), 4.909178125607777), (('found', 'that'), 4.876451098535675), (('code', 'sustained'), 4.856827282420982), (('evid', 'overruled'), 4.833212104739978), (('harm', 'public'), 4.827615361204494), (('data', 'from'), 4.797184335993581), (('provide', 'syringe'), 4.777100089950245), (('would', 'have'), 4.754147339465161), (('and', 'processing'), 4.7391322397512265), (('hepatitis', 'cases'), 4.729013939660627), (('evid', 'sustained'), 4.712917871022267), (('and', 'correct'), 4.678696385889253), (('number', 'syringes'), 4.676563667658698), (('which', 'was'), 4.661109144725751), (('hiv', 'transmission'), 4.647534619047166), (('state', 'public'), 4.6324850198725045), (('ocnep', 'operation'), 4.603963275619277), (('operate', 'needle'), 4.5862612738858175), (('who', 'are'), 4.5643375570199645), (('correspondence', 'for'), 4.5425502232496004), (('and', 'whereas'), 4.528712460080854), (('hiv', 'treatment'), 4.514640348549818), (('risk', 'other'), 4.489456216772451), (('california', 'page'), 4.406917806214937), (('ocnep', 'will'), 4.394946576284664), (('are', 'not'), 4.353126593154272), (('ocnep', 'has'), 4.332378566421557), (('true', 'and'), 4.245869573166882), (('for', 'each'), 4.231981990526789), (('ocnep', 'operate'), 4.2310406502366575), (('new', 'hiv'), 4.204300227937669), (('drug', 'injection'), 4.201832379847085), (('transmission', 'hiv'), 4.200075642075943), (('persons', 'with'), 4.184975164643086), (('action', 'for'), 4.170581445862645), (('that', 'seps'), 4.165957715730659), (('code', 'declaration'), 4.126223552823189), (('hiv', 'aids'), 4.098754454632655), (('county', 'orange'), 4.035069998982124), (('and', 'safety'), 4.0220662030227246), (('nonuse', 'the'), 4.019801493687034), (('ruling', 'the'), 4.019801493687034), (('the', 'merits'), 4.019801493687034), (('from', 'all'), 4.003375945773925), (('the', 'foregoing'), 3.9632179653206663), (('the', 'ban'), 3.9584009490228915), (('for', 'those'), 3.9575877225284444), (('not', 'have'), 3.9158260667243407), (('application', 'was'), 3.864663121835088), (('the', 'united'), 3.8526915078517767), (('employed', 'the'), 3.827156415744641), (('code', 'chief'), 3.826491204050024), (('for', 'authorization'), 3.792069822608914), (('removal', 'the'), 3.7787933941832392), (('the', 'removal'), 3.7787933941832392), (('with', 'local'), 3.7622840928208063), (('exchange', 'services'), 3.7329203458988722), (('clerk', 'the'), 3.7202412118281263), (('recovery', 'and'), 3.706710762058851), (('throughout', 'the'), 3.6978733987996737), (('the', 'laws'), 3.678764575851968), (('prevail', 'the'), 3.6412898704333045), (('mesa', 'city'), 3.6385969107206346), (('and', 'karen'), 3.628708250057578), (('and', 'hcv'), 3.608146927575259), (('director', 'and'), 3.5928427975005697), (('the', 'base'), 3.5723425167158123), (('health', 'cdph'), 3.5168607028290175), (('was', 'not'), 3.4838751845091522), (('the', 'applicant'), 3.47923311232433), (('and', 'regulations'), 3.461598264222321), (('whereas', 'the'), 3.460374085073017), (('peers', 'and'), 3.4436763562250547), (('the', 'real'), 3.4348389929658794), (('users', 'orange'), 3.423786918098706), (('program', 'ocnep'), 3.4066503566340387), (('city', 'orange'), 3.3775467395748784), (('laws', 'the'), 3.3568364809646063), (('the', 'following'), 3.3568364809646063), (('collection', 'and'), 3.3382158487170344), (('department', 'health'), 3.3076002917747687), (('provide', 'for'), 3.2636908502541253), (('that', 'would'), 3.250846613317176), (('violation', 'the'), 3.242193915023485), (('hiv', 'hepatitis'), 3.2372506497389573), (('ana', 'california'), 3.2265700870759275), (('syringes', 'from'), 3.2203344810597443), (('the', 'same'), 3.212446571629428), (('the', 'spread'), 3.1966792557711123), (('and', 'disposal'), 3.1761960453600686), (('during', 'the'), 3.16275944752908), (('testing', 'and'), 3.129401833881129), (('the', 'safe'), 3.1267166976035483), (('officer', 'and'), 3.0814555553896597), (('and', 'other'), 3.065080852914271), (('the', 'first'), 3.0604434781843786), (('the', 'petition'), 3.0563273697121467), (('age', 'and'), 3.0224866299646145), (('that', 'are'), 3.00746916685139), (('county', 'has'), 2.9405243624751236), (('orange', 'state'), 2.9354602004226678), (('participants', 'and'), 2.9098026274363598), (('according', 'the'), 2.882297969937099), (('within', 'the'), 2.8739506272235786), (('the', 'city'), 2.8517201922284094), (('the', 'request'), 2.849876492244725), (('the', 'cause'), 2.797409072350586), (('the', 'american'), 2.785336240050011), (('the', 'requirements'), 2.7718739802434484), (('under', 'the'), 2.737401762986309), (('served', 'the'), 2.717238723666604), (('health', 'and'), 2.709738454756419), (('control', 'and'), 2.706710762058851), (('the', 'potential'), 2.6412898704333045), (('between', 'and'), 2.6395965662003142), (('the', 'number'), 2.6395294125688693), (('that', 'ocnep'), 2.622394288821141), (('and', 'volunteers'), 2.608146927575259), (('that', 'were'), 2.591390386371881), (('the', 'model'), 2.572342516715814), (('the', 'board'), 2.567289288989528), (('that', 'this'), 2.5629819711861295), (('the', 'civic'), 2.5516526579486296), (('the', 'proposed'), 2.543363449744046), (('for', 'our'), 2.5319809815394123), (('since', 'the'), 2.525036801937457), (('avenue', 'and'), 2.507401953835444), (('volunteers', 'and'), 2.470643403825324), (('ana', 'public'), 2.4658470017853418), (('and', 'state'), 2.4557926425411125), (('the', 'state'), 2.426121775864768), (('risk', 'for'), 2.3892217323379867), (('hepatitis', 'and'), 2.3883492821916796), (('the', 'office'), 2.3744663749863975), (('the', 'age'), 2.3721032376179174), (('for', 'hiv'), 2.3689628933541833), (('county', 'health'), 2.3676346940545407), (('association', 'the'), 2.3626892072100425), (('both', 'the'), 2.3279237890493647), (('for', 'all'), 2.317130109215583), (('this', 'program'), 2.309654856190871), (('due', 'the'), 2.303594459687627), (('each', 'the'), 2.303594459687627), (('the', 'application'), 2.3026443806010093), (('the', 'department'), 2.2995791633554035), (('the', 'environmental'), 2.297335469215941), (('with', 'hiv'), 2.28259363519971), (('city', 'syringe'), 2.2794167657188424), (('california', 'hiv'), 2.2606510823190327), (('the', 'santa'), 2.2542667473240563), (('syringes', 'and'), 2.253199114965369), (('over', 'the'), 2.233205131796229), (('before', 'the'), 2.231305598880745), (('between', 'the'), 2.2233348877721646), (('the', 'area'), 2.2124465716294317), (('using', 'the'), 2.2124465716294317), (('the', 'district'), 2.212446571629428), (('year', 'and'), 2.209211102588032), (('and', 'sharps'), 2.1985638583885247), (('and', 'prevention'), 2.1827388912268404), (('provided', 'the'), 2.145332375770895), (('the', 'national'), 2.145332375770895), (('operation', 'the'), 2.12289498665114), (('for', 'hepatitis'), 2.097332463832007), (('with', 'ocnep'), 2.041438164017876), (('california', 'code'), 2.0394086770186775), (('based', 'the'), 2.031874325987612), (('with', 'this'), 2.029331561161225), (('the', 'homeless'), 2.0198014936870337), (('the', 'study'), 2.0198014936870337), (('after', 'the'), 1.9942664015798997), (('the', 'community'), 1.9912323414902637), (('california', 'health'), 1.9894535695415527), (('where', 'the'), 1.9691754206170664), (('the', 'estimated'), 1.9494121657956356), (('the', 'total'), 1.9494121657956356), (('the', 'california'), 1.9439577357035276), (('period', 'and'), 1.9380363081653051), (('and', 'hepatitis'), 1.9188639988904583), (('the', 'location'), 1.882297969937099), (('from', 'the'), 1.8784456444414914), (('concerns', 'and'), 1.8766357635011595), (('and', 'its'), 1.8628299639761288), (('and', 'control'), 1.8587138555039004), (('office', 'the'), 1.8439516582876188), (('impact', 'the'), 1.8353769225496066), (('the', 'above'), 1.8353769225496066), (('the', 'harm'), 1.8234042808835333), (('treatment', 'and'), 1.8177420744475938), (('center', 'and'), 1.8088911568653252), (('address', 'the'), 1.7895038742652396), (('the', 'collection'), 1.7895038742652396), (('orange', 'california'), 1.775224255148789), (('with', 'the'), 1.773255210641807), (('about', 'the'), 1.7467829992806188), (('and', 'local'), 1.7067107620588473), (('the', 'impact'), 1.697873398799672), (('the', 'day'), 1.657231414302327), (('following', 'the'), 1.6463430981595906), (('the', 'time'), 1.64476206234011), (('the', 'medical'), 1.6412898704333045), (('safety', 'and'), 1.6395965662003142), (('use', 'and'), 1.5427350269477245), (('needles', 'and'), 1.5378338500494024), (('director', 'the'), 1.5343746665167934), (('the', 'evidence'), 1.5304166529481087), (('one', 'the'), 1.5120068534883373), (('the', 'attorney'), 1.5004273345934571), (('the', 'county'), 1.4596423839664503), (('the', 'operation'), 1.4348389929658794), (('the', 'orange'), 1.423297371083187), (('period', 'the'), 1.403130133238541), (('the', 'public'), 1.399054417825905), (('the', 'local'), 1.390444873607425), (('services', 'and'), 1.3609359252171203), (('the', 'transmission'), 1.3568364809646063), (('application', 'the'), 1.345713102492894), (('code', 'that'), 1.3434628729282956), (('the', 'sep'), 1.3390800101604476), (('that', 'the'), 1.3277391240838803), (('found', 'the'), 1.3193617755459428), (('the', 'information'), 1.3193617755459428), (('the', 'concerns'), 1.2828358995208298), (('hiv', 'and'), 1.227020304437751), (('and', 'syringe'), 1.2219997349731955), (('reported', 'the'), 1.2124465716294281), (('the', 'policy'), 1.2124465716294281), (('for', 'the'), 1.172782354055915), (('and', 'all'), 1.1487153089379625), (('for', 'this'), 1.14217303067689), (('than', 'the'), 1.1352787111069702), (('the', 'program'), 1.1256701287938604), (('increase', 'the'), 1.121681107706248), (('section', 'the'), 1.1041936809774064), (('all', 'the'), 1.0992359611814386), (('including', 'the'), 1.0938020751308102), (('used', 'and'), 1.0786795394458046), (('the', 'population'), 1.0198014936870337), (('and', 'were'), 1.0021666455850209), (('and', 'will'), 0.9458984259382746), (('the', 'risk'), 0.9014067928848029), (('opposition', 'the'), 0.8942706116031758), (('for', 'city'), 0.8814847434426518), (('operate', 'the'), 0.8659961576079986), (('needle', 'and'), 0.8410118537704392), (('for', 'syringe'), 0.8378735122220391), (('state', 'and'), 0.8235244270415976), (('county', 'and'), 0.8112413455301564), (('law', 'the'), 0.8025707774663644), (('and', 'not'), 0.7667180714231279), (('the', 'data'), 0.7377661259231836), (('year', 'the'), 0.7243456101608636), (('the', 'syringe'), 0.7227174697771517), (('for', 'public'), 0.6819379060088586), (('used', 'the'), 0.669304246602902), (('the', 'within'), 0.6412898704333045), (('the', 'needle'), 0.6164457994558283), (('services', 'the'), 0.59156449665333), (('users', 'the'), 0.5704940923234432), (('syringes', 'the'), 0.43483899296587936), (('use', 'the'), 0.42286635129980255), (('the', 'ocnep'), 0.4185371806367755), (('was', 'the'), 0.348865769856026), (('program', 'and'), 0.3420467852951248), (('among', 'the'), 0.30930811088201793), (('department', 'and'), 0.19293930919464586), (('exchange', 'the'), 0.030772611508037784), (('has', 'the'), 0.019801493687033656), (('which', 'the'), 0.011627562241333322), (('orange', 'and'), -0.007444949199271633), (('and', 'the'), -0.01928371428635245), (('and', 'that'), -0.03265732232266316), (('program', 'the'), -0.07868836971232795), (('exchange', 'and'), -0.15678723803628714), (('and', 'hiv'), -0.18801719484109114), (('and', 'this'), -0.28927617543452655), (('and', 'public'), -0.34897337051882715), (('ocnep', 'and'), -0.3767052461287861), (('the', 'health'), -0.4826988468421476), (('and', 'health'), -0.5587503811694852), (('california', 'the'), -0.6085832873252492), (('and', 'orange'), -0.6354761718123143), (('the', 'exchange'), -0.7656939944068313), (('the', 'code'), -0.8802027163362425), (('code', 'the'), -1.2281260197565516), (('county', 'the'), -1.6778611397834844), (('ocnep', 'the'), -1.7189663431131592)]\n"
     ]
    }
   ],
   "source": [
    "#Create n-grams using pointwise mutual information\n",
    "\n",
    "#Create simultaneous bigrams and trigrams\n",
    "bigram_measures = nltk.collocations.BigramAssocMeasures()\n",
    "finder = nltk.collocations.BigramCollocationFinder.from_words(str.split(draft_case.lower()))\n",
    "finder.apply_freq_filter(10)\n",
    "bigram_scores = finder.score_ngrams(bigram_measures.pmi)\n",
    "\n",
    "#Do the same for trigrams\n",
    "trigram_measures = nltk.collocations.TrigramAssocMeasures()\n",
    "finder = nltk.collocations.TrigramCollocationFinder.from_documents([comment.split() for comment in clean_reviews.reviewText])\n",
    "# Filter only those that occur at least 50 times\n",
    "finder.apply_freq_filter(50)\n",
    "trigram_scores = finder.score_ngrams(trigram_measures.pmi)"
   ]
  },
  {
   "cell_type": "code",
   "execution_count": 230,
   "id": "84dae61e-1286-41dd-9059-438057d65572",
   "metadata": {},
   "outputs": [
    {
     "name": "stdout",
     "output_type": "stream",
     "text": [
      "     bigram       pmi\n",
      "0    (I, V)  6.637107\n",
      "1    (H, I)  5.687034\n",
      "2    (W, I)  5.244833\n",
      "3    (N, E)  5.199075\n",
      "4    (E, P)  5.105316\n",
      "..      ...       ...\n",
      "342  (n, l) -3.116113\n",
      "343  (o, i) -3.415438\n",
      "344  (o, a) -3.852004\n",
      "345  (n, n) -4.082151\n",
      "346  (e, o) -4.170083\n",
      "\n",
      "[347 rows x 2 columns]\n"
     ]
    }
   ],
   "source": [
    "#Assess most common n-grams\n",
    "bigram_pmi = pd.DataFrame(bigram_scores)\n",
    "bigram_pmi.columns = ['bigram', 'pmi']\n",
    "bigram_pmi.sort_values(by='pmi', axis = 0, ascending = False, inplace = True)\n",
    "\n",
    "print(bigram_pmi)\n"
   ]
  },
  {
   "cell_type": "code",
   "execution_count": 222,
   "id": "2b5b2730-c0e9-4f78-ad14-d4d655cfb545",
   "metadata": {},
   "outputs": [
    {
     "data": {
      "text/plain": [
       "[]"
      ]
     },
     "execution_count": 222,
     "metadata": {},
     "output_type": "execute_result"
    }
   ],
   "source": [
    "def bigram_filter(bigram):\n",
    "    tag = nltk.pos_tag(bigram)\n",
    "    if tag[0][1] not in ['JJ', 'NN'] and tag[1][1] not in ['NN']:\n",
    "        return False\n",
    "    if bigram[0] in stopwords_def or bigram[1] in stopwords_def:\n",
    "        return False\n",
    "    if 'n' in bigram or 't' in bigram:\n",
    "        return False\n",
    "    if 'PRON' in bigram:\n",
    "        return False\n",
    "    return True\n",
    "# Can set pmi threshold to whatever makes sense - eyeball through and select threshold where n-grams stop making sense\n",
    "# choose top 500 ngrams in this case ranked by PMI that have noun like structures\n",
    "filtered_bigram = bigram_pmi[bigram_pmi.apply(lambda bigram:\\\n",
    "                                              bigram_filter(bigram['bigram'])\\\n",
    "                                              and bigram.pmi > 5, axis = 1)][:500]\n",
    "\n",
    "bigrams = [' '.join(x) for x in filtered_bigram.bigram.values if len(x[0]) > 2 or len(x[1]) > 2]\n",
    "bigrams[:10]"
   ]
  },
  {
   "cell_type": "code",
   "execution_count": 211,
   "id": "9d9435b9-dd23-4374-9324-f84dbac0f077",
   "metadata": {},
   "outputs": [
    {
     "name": "stdout",
     "output_type": "stream",
     "text": [
      "{'California': 'California', 'Costa': 'Costa', 'serious': 'serious', 'fictitious': 'fictitious', 'numerous': 'numerous', 'intravenous': 'intravenous', 'process': 'process', 'this': 'this', 'has': 'has', 'virus': 'virus', 'various': 'various', 'basis': 'basis', 'business': 'business', 'thus': 'thus', 'debris': 'debris', 'excess': 'excess', 'was': 'was'}\n",
      "California\n",
      "['Petitioner', 'are', 'bringing', 'this', 'action', 'prevent', 'Respondent', 'Defendant', 'California', 'Department', 'Public', 'Health', 'Karen', 'Smith', 'and', 'Orange', 'County', 'Needle', 'Exchange', 'Program', 'collectively', 'Respondent', 'from', 'instituting', 'needle', 'exchange', 'program', 'that', 'do', 'not', 'comport', 'with', 'the', 'legal', 'requirement', 'necessary', 'ensure', 'the', 'health', 'and', 'safety', 'the', 'public', 'large', 'Indeed', 'the', 'needle', 'exchange', 'program', 'authorized', 'commence', 'August', 'pose', 'serious', 'threat', 'the', 'health', 'and', 'safety', 'the', 'citizen', 'Orange', 'County', 'Thi', 'action', 'also', 'challenge', 'the', 'Orange', 'County', 'Needle', 'Exchange', 'Program', 'violation', 'the', 'California', 'Medical', 'Waste', 'Management', 'Act', 'medical', 'waste', 'generator', 'Finally', 'this', 'action', 'challenge', 'the', 'violation', 'the', 'California', 'OFFICE', 'THE', 'UNTIKN', 'GLNSEL', 'Environmental', 'Quality', 'Act', 'CEQA', 'Respondent', 'California', 'Department', 'Public', 'Health', 'and', 'Karen', 'Smith', 'hereinafter', 'State', 'Respondent', 'because', 'they', 'have', 'entirely', 'failed', 'performthe', 'required', 'environmental', 'review', 'needed', 'for', 'the', 'collection', 'and', 'disposal', 'used', 'needle', 'wellthe', 'violation', 'the', 'California', 'Medical', 'Waste', 'Management', 'Act', 'Respondent', 'Orange', 'County', 'Needle', 'Exchange', 'Program', 'OCNEP', 'for', 'failing', 'meet', 'the', 'necessary', 'requirement', 'medical', 'waste', 'generator', 'PARTy', 'Petitioner', 'and', 'plaintiff', 'County', 'Orange', 'County', 'and', 'all', 'time', 'herein', 'mentioned', 'was', 'political', 'subdivision', 'the', 'State', 'California', 'and', 'chartered', 'county', 'with', 'the', 'legal', 'ability', 'sue', 'and', 'sued', 'Gov', 'Code', 'and', 'Under', 'the', 'Charter', 'with', 'few', 'exception', 'the', 'general', 'law', 'the', 'State', 'California', 'apply', 'the', 'County', 'The', 'Board', 'Supervisor', 'the', 'legislative', 'body', 'that', 'govern', 'the', 'County', 'and', 'through', 'which', 'the', 'County', 'exercise', 'it', 'power', 'including', 'the', 'management', 'litigation', 'Gov', 'Code', 'While', 'authorized', 'commence', 'August', 'OCNEP', 'has', 'agreed', 'that', 'will', 'not', 'commence', 'operation', 'until', 'September', 'August', 'open', 'session', 'the', 'Orange', 'County', 'Board', 'Supervisor', 'authorized', 'theinitiation', 'this', 'litigation', 'Petitioner', 'and', 'plaintiff', 'Orange', 'County', 'Flood', 'Control', 'District', 'and', 'all', 'time', 'herein', 'mentioned', 'was', 'body', 'corporate', 'and', 'politic', 'the', 'State', 'California', 'organized', 'and', 'existing', 'under', 'the', 'Orange', 'County', 'Flood', 'Control', 'Act', 'Chapter', 'the', 'State', 'California', 'Statute', 'amended', 'Among', 'it', 'power', 'the', 'ability', 'sue', 'and', 'sued', 'Wat', 'Code', 'App', 'The', 'Board', 'Supervisor', 'the', 'County', 'Orange', 'also', 'sit', 'the', 'Board', 'Supervisor', 'for', 'the', 'Orange', 'County', 'Flood', 'Control', 'District', 'Petitioner', 'and', 'plaintiff', 'City', 'Costa', 'Mesa', 'and', 'all', 'time', 'herein', 'mentioned', 'was', 'municipal', 'corporation', 'and', 'city', 'and', 'empowered', 'the', 'Constitution', 'the', 'State', 'California', 'enact', 'local', 'ordinance', 'for', 'the', 'protection', 'the', 'local', 'health', 'benefit', 'and', 'welfare', 'The', 'City', 'Costa', 'FFICEOETHE', 'SOP', 'HEE', 'PIL', 'NSEL', 'Mesa', 'was', 'incorporated', 'and', 'located', 'Orange', 'County', 'California', 'August', 'the', 'City', 'Council', 'the', 'City', 'Costa', 'Mesa', 'open', 'session', 'authorized', 'the', 'City', 'Attorney', 'join', 'the', 'County', 'litigation', 'against', 'the', 'California', 'Department', 'Public', 'Health', 'and', 'the', 'Orange', 'County', 'Needle', 'Exchange', 'Program', 'vote', 'Petitioner', 'and', 'plaintiff', 'City', 'Orange', 'and', 'all', 'time', 'herein', 'mentioned', 'was', 'municipal', 'corporation', 'and', 'city', 'and', 'empowered', 'the', 'Constitution', 'the', 'State', 'California', 'enact', 'local', 'ordinance', 'for', 'the', 'protection', 'the', 'local', 'health', 'benefit', 'and', 'welfare', 'The', 'City', 'Orange', 'located', 'Orange', 'County', 'California', 'August', 'the', 'City', 'Orange', 'City', 'Council', 'closed', 'session', 'reported', 'out', 'it', 'City', 'Attorney', 'authorized', 'the', 'initiation', 'thislitigation', 'Petitioner', 'and', 'plaintiff', 'City', 'Anaheim', 'and', 'all', 'time', 'mentioned', 'herein', 'was', 'municipal', 'corporation', 'and', 'charter', 'city', 'and', 'empowered', 'the', 'Constitution', 'the', 'State', 'California', 'enact', 'local', 'ordinance', 'for', 'the', 'protection', 'the', 'local', 'health', 'benefit', 'and', 'welfare', 'The', 'City', 'Anaheim', 'located', 'Orange', 'County', 'California', 'August', 'the', 'City', 'Council', 'Anaheim', 'closed', 'session', 'reported', 'out', 'it', 'City', 'Attorney', 'authorized', 'the', 'initiation', 'thislitigation', 'Respondent', 'and', 'Defendant', 'California', 'Department', 'Public', 'Health', 'CDPH', 'and', 'all', 'time', 'herein', 'mentioned', 'was', 'state', 'department', 'within', 'the', 'California', 'Health', 'and', 'Human', 'Service', 'Agency', 'and', 'was', 'created', 'under', 'the', 'law', 'and', 'regulation', 'the', 'State', 'California', 'Health', 'Safety', 'Code', 'CDPH', 'charged', 'with', 'implementing', 'Health', 'and', 'Safety', 'Code', 'section', 'seq', 'Respondent', 'and', 'Defendant', 'Karen', 'Smith', 'Smith', 'and', 'all', 'time', 'herein', 'mentioned', 'was', 'the', 'Director', 'CDPH', 'and', 'the', 'State', 'Public', 'Health', 'Officer', 'Smith', 'sued', 'her', 'official', 'capacity', 'the', 'Director', 'CDPH', 'she', 'has', 'the', 'legal', 'duty', 'ensure', 'that', 'CDPH', 'comply', 'with', 'Health', 'Safety', 'Code', 'section', 'seq', 'and', 'other', 'applicable', 'law', 'which', 'may', 'include', 'but', 'not', 'limited', 'the', 'California', 'Environmental', 'Quality', 'Act', 'Petitioner', 'are', 'informed', 'and', 'believe', 'and', 'thereon', 'allege', 'that', 'Respondent', 'and', 'OFFICEFTHE', 'COus', 'EICIUIEL', 'Defendant', 'Orange', 'County', 'Needle', 'Exchange', 'Program', 'California', 'corporation', 'that', 'recently', 'applied', 'CDPH', 'distribute', 'syringe', 'intravenous', 'drug', 'user', 'the', 'County', 'Orange', 'Respondent', 'and', 'Defendant', 'Do', 'through', 'are', 'were', 'the', 'agent', 'employee', 'contractor', 'alter', 'ego', 'and', 'entity', 'acting', 'under', 'the', 'authority', 'each', 'other', 'respondent', 'and', 'defendant', 'real', 'party', 'interest', 'and', 'each', 'performed', 'act', 'which', 'this', 'action', 'based', 'within', 'the', 'cause', 'and', 'scope', 'such', 'agency', 'and', 'employment', 'Petitioner', 'not', 'know', 'the', 'true', 'name', 'and', 'capacity', 'whether', 'individual', 'corporate', 'otherwise', 'Do', 'through', 'inclusive', 'and', 'therefore', 'sue', 'said', 'respondent', 'and', 'defendant', 'under', 'fictitious', 'name', 'Petitioner', 'will', 'amend', 'their', 'Complaint', 'and', 'Petition', 'show', 'their', 'true', 'name', 'and', 'capacity', 'when', 'they', 'have', 'been', 'ascertained', 'JURISDICTION', 'AND', 'VENUE', 'Thi', 'court', 'has', 'jurisdiction', 'pursuant', 'section', 'article', 'the', 'California', 'Constitution', 'and', 'Code', 'Civil', 'Procedure', 'section', 'and', 'Venue', 'proper', 'with', 'this', 'court', 'Petitioner', 'have', 'asserted', 'claim', 'against', 'department', 'the', 'State', 'California', 'and', 'officer', 'the', 'State', 'her', 'official', 'capacity', 'and', 'this', 'action', 'has', 'been', 'filed', 'county', 'which', 'the', 'Attorney', 'General', 'maintain', 'office', 'pursuant', 'Code', 'Civil', 'Procedure', 'section', 'BACKGROUND', 'ACTION', 'Statutorv', 'and', 'Regulatory', 'Background', 'California', 'Medical', 'Waste', 'Management', 'Act', 'Part', 'Division', 'the', 'Health', 'and', 'Safety', 'Code', 'commencing', 'with', 'Section', 'known', 'the', 'Medical', 'Waste', 'Management', 'Act', 'Health', 'Saf', 'Code', 'seq', 'All', 'medical', 'waste', 'generator', 'including', 'small', 'quantity', 'generator', 'within', 'the', 'County', 'Orange', 'must', 'register', 'with', 'seek', 'approval', 'from', 'maintain', 'certain', 'documentation', 'and', 'record', 'with', 'the', 'County', 'Orange', 'Health', 'Care', 'Agency', 'Environmental', 'Health', 'HCA', 'pursuant', 'the', 'Medical', 'Waste', 'Management', 'Act', 'Health', 'Saf', 'Code', 'The', 'HCATASNN', '*', 'VINDO', 'ADA', 'implement', 'and', 'the', 'enforcement', 'agency', 'for', 'the', 'Medical', 'Waste', 'Management', 'Act', 'within', 'the', 'County', 'Health', 'Saf', 'Code', 'medical', 'waste', 'generator', 'any', 'person', 'whose', 'act', 'process', 'produce', 'medical', 'waste', 'Health', 'Saf', 'Code', 'Medical', 'waste', 'include', 'sharp', 'waste', 'such', 'hypodermic', 'needle', 'hypodermic', 'needle', 'with', 'syringe', 'blade', 'needle', 'with', 'attached', 'tubing', 'acupuncture', 'needle', 'root', 'canal', 'file', 'broken', 'glas', 'item', 'used', 'health', 'care', 'such', 'Pasteur', 'pipette', 'and', 'blood', 'vial', 'contaminated', 'with', 'biohazardou', 'waste', 'and', 'any', 'item', 'capable', 'cutting', 'piercing', 'from', 'trauma', 'scene', 'waste', 'Health', 'Saf', 'Code', 'Medical', 'waste', 'also', 'include', 'waste', 'generated', 'from', 'the', 'consolidation', 'home', 'generated', 'sharp', 'Health', 'Saf', 'Code', 'Petitioner', 'are', 'willing', 'waive', 'the', 'venue', 'provision', 'contained', 'Health', 'Safety', 'Code', 'section', 'which', 'allows', 'such', 'cause', 'action', 'filed', 'the', 'county', 'where', 'violation', 'the', 'California', 'Medical', 'Waste', 'Act', 'has', 'occurred', 'about', 'occur', 'the', 'interest', 'having', 'all', 'claim', 'decided', 'the', 'same', 'time', 'the', 'alternative', 'Petitioner', 'are', 'willing', 'stipulate', 'change', 'venue', 'Orange', 'County', 'for', 'all', 'cause', 'action', 'small', 'quantity', 'generator', 'mean', 'medical', 'waste', 'generator', 'other', 'than', 'trauma', 'scene', 'waste', 'management', 'practitioner', 'that', 'generate', 'les', 'than', 'pound', 'per', 'month', 'medical', 'waste', 'Health', 'Saf', 'Code', 'OCNEP', 'needle', 'exchange', 'program', 'activity', 'including', 'the', 'disposal', 'used', 'syringe', 'and', 'sharp', 'waste', 'from', 'program', 'participant', 'are', 'subject', 'regulation', 'under', 'the', 'Medical', 'Waste', 'Management', 'Act', 'Clean', 'Needle', 'and', 'Syringe', 'Exchange', 'Program', 'Health', 'and', 'Safety', 'Code', 'section', 'provide', 'that', 'CDPH', 'may', 'authorize', 'entity', 'that', 'provide', 'certain', 'service', 'including', 'drug', 'abuse', 'treatment', 'service', 'Human', 'Immunodeficiency', 'Viru', 'HIV', 'hepatitis', 'screening', 'Hepatitis', 'and', 'Hepatitis', 'vaccination', 'OFFICE', 'OETTE', 'etc', 'provide', 'upon', 'application', 'CDPH', 'hypodermic', 'needle', 'and', 'syringe', 'exchange', 'service', 'consistent', 'with', 'state', 'standard', 'certain', 'location', 'determined', 'CDPH', 'Thi', 'commonly', 'known', 'Clean', 'Needle', 'and', 'Syringe', 'Exchange', 'Program', 'Subdivision', 'Health', 'and', 'Safety', 'Code', 'section', 'also', 'require', 'CDPH', 'consult', 'with', 'the', 'local', 'health', 'officer', 'and', 'local', 'law', 'enforcement', 'leadership', 'and', 'balance', 'the', 'concern', 'law', 'enforcement', 'with', 'the', 'public', 'healthbenefit', 'prior', 'issuing', 'the', 'authorization', 'Health', 'and', 'Safety', 'Code', 'section', 'require', 'that', 'order', 'for', 'CDPH', 'issuethe', 'authorization', 'the', 'application', 'must', 'demonstrate', 'that', 'the', 'applicant', 'comply', 'with', 'certain', 'minimum', 'standard', 'These', 'minimum', 'standard', 'include', 'establishing', 'that', 'the', 'entity', 'can', 'provide', 'certain', 'service', 'including', 'drug', 'abuse', 'treatment', 'HIV', 'hepatitis', 'screening', 'Hepatitis', 'and', 'vaccination', 'screening', 'for', 'sexually', 'transmitted', 'infection', 'etc', 'that', 'the', 'entity', 'has', 'the', 'capacity', 'commence', 'needle', 'and', 'syringe', 'exchange', 'service', 'within', 'three', 'month', 'authorization', 'that', 'theentity', 'has', 'adequate', 'funding', 'provide', 'needle', 'and', 'syringe', 'exchange', 'service', 'for', 'all', 'it', 'participant', 'provide', 'HIV', 'and', 'viral', 'hepatitis', 'prevention', 'education', 'service', 'for', 'all', 'it', 'participant', 'and', 'provide', 'for', 'the', 'safe', 'recovery', 'and', 'disposal', 'used', 'syringe', 'and', 'sharp', 'waste', 'from', 'all', 'it', 'participant', 'and', 'that', 'the', 'entity', 'has', 'the', 'capacity', 'and', 'established', 'plan', 'collectevaluative', 'datum', 'order', 'asses', 'program', 'impact', 'including', 'total', 'number', 'person', 'served', 'totalnumber', 'syringe', 'and', 'needle', 'distributed', 'recovered', 'and', 'disposed', 'and', 'total', 'number', 'and', 'type', 'referral', 'drug', 'treatment', 'and', 'other', 'service', 'Health', 'Saf', 'Code', 'CDPH', 'has', 'also', 'issued', 'rule', 'and', 'regulation', 'regarding', 'the', 'authorization', 'the', 'hypodermic', 'needle', 'and', 'syringe', 'exchange', 'service', 'See', 'Cal', 'Code', 'Reg', 'tit', 'seq', 'relate', 'the', 'application', 'title', 'section', 'the', 'Code', 'Regulation', 'set', 'forth', 'the', 'requirement', 'for', 'the', 'application', 'which', 'include', 'but', 'are', 'not', 'limited', 'description', 'service', 'anticipated', 'number', 'participant', 'served', 'each', 'year', 'estimated', 'number', 'syringe', 'dispensed', 'and', 'collected', 'each', 'year', 'copy', 'various', 'plan', 'that', 'must', 'meet', 'certain', 'regulatory', 'criteriaand', 'that', 'guide', 'the', 'operation', 'the', 'Clean', 'Needle', 'and', 'Syringe', 'Exchange', 'Program', 'well', 'collection', 'and', 'dispensing', 'needle', 'and', 'signed', 'statement', 'attesting', 'various', 'criterium', 'including', 'compliance', 'with', 'law', 'and', 'capacity', 'begin', 'syringe', 'exchange', 'service', 'within', 'day', 'FFICECOLNEENGESEL', 'addition', 'title', 'section', 'the', 'Code', 'Regulation', 'impose', 'mandatory', 'and', 'non', 'discretionary', 'duty', 'upon', 'CDPH', 'requiring', 'reject', 'application', 'any', 'the', 'followingdeficiency', 'exist', 'Information', 'submitted', 'the', 'application', 'incorrect', 'incomplete', 'The', 'applicant', 'do', 'not', 'meet', 'all', 'the', 'requirement', 'listed', 'Health', 'and', 'Safety', 'Code', 'section', 'Evidence', 'project', 'harm', 'public', 'safety', 'presented', 'local', 'law', 'enforcement', 'official', 'the', 'department', 'judgment', 'greater', 'than', 'evidence', 'projected', 'benefit', 'public', 'health', 'Finally', 'title', 'section', 'the', 'Code', 'Regulation', 'also', 'impose', 'mandatory', 'and', 'non', 'discretionary', 'duty', 'upon', 'CDPH', 'requiring', 'reject', 'application', 'unles', 'among', 'other', 'requirement', 'provide', 'for', 'the', 'safe', 'recovery', 'and', 'disposal', 'used', 'syringe', 'andsharp', 'waste', 'from', 'all', 'it', 'participant', 'The', 'Needle', 'Exchange', 'Program', 'Santum', 'Ana', 'OCNEP', 'became', 'the', 'first', 'needle', 'exchange', 'program', 'Orange', 'County', 'when', 'was', 'approved', 'for', 'operation', 'the', 'City', 'Santum', 'Ana', 'CDPH', 'Citing', 'public', 'health', 'risk', 'the', 'City', 'Santum', 'Ana', 'terminated', 'the', 'Memorandum', 'Understanding', 'between', 'the', 'City', 'Santum', 'Anaand', 'OCNEP', 'after', 'allowing', 'the', 'program', 'operate', 'the', 'Santum', 'Ana', 'Civic', 'Center', 'from', 'February', 'January', 'Thi', 'was', 'primarily', 'due', 'various', 'public', 'health', 'threat', 'posed', 'sharp', 'increase', 'discarded', 'syringe', 'the', 'Santum', 'Ana', 'Civic', 'Center', 'During', 'the', 'time', 'period', 'that', 'OCNEP', 'operated', 'the', 'Santum', 'Ana', 'Civic', 'Center', 'Santum', 'Ana', 'Public', 'Library', 'staff', 'reported', 'finding', 'many', 'discarded', 'syringe', 'the', 'property', 'per', 'month', 'including', 'shelve', 'near', 'player', 'window', 'sill', 'and', 'even', 'inside', 'book', 'posing', 'threat', 'patron', 'City', 'Santum', 'Ana', 'employee', 'were', 'also', 'pricked', 'discarded', 'needle', 'which', 'littered', 'park', 'and', 'sidewalk', 'Prior', 'that', 'time', 'Petitioner', 'are', 'informed', 'and', 'believe', 'and', 'thereon', 'allegethat', 'staff', 'rarely', 'found', 'syringe', 'the', 'facility', 'During', 'the', 'Environmental', 'Remediation', 'Project', 'along', 'the', 'Santum', 'Ana', 'River', 'Trail', 'approximately', 'dirty', 'needle', 'were', 'removed', 'from', 'les', 'than', 'fmy', 'mile', 'stretch', 'two', 'week', 'period', 'Outreach', 'and', 'Engagement', 'program', 'under', 'Orange', 'County', 'Health', 'CUIDNVHO', 'ALNNO', 'OFFICE', 'THE', 'COUNTY', 'COUN', 'Care', 'Agency', 'umbrella', 'provided', 'service', 'the', 'population', 'encamped', 'the', 'Santum', 'Ana', 'River', 'Trail', 'area', 'Petitioner', 'are', 'informed', 'and', 'believe', 'and', 'thereon', 'allege', 'that', 'approximately', 'needle', 'collected', 'from', 'the', 'Santum', 'Ana', 'River', 'Trail', 'area', 'included', 'needle', 'distributed', 'OCNEP', 'Petitioner', 'are', 'informed', 'and', 'believe', 'and', 'thereon', 'allege', 'that', 'individual', 'known', 'gatekeeper', 'would', 'collect', 'all', 'the', 'dirty', 'needle', 'they', 'could', 'find', 'from', 'the', 'Santum', 'Ana', 'River', 'Trail', 'and', 'bring', 'them', 'the', 'OCNEP', 'the', 'City', 'Santum', 'Ana', 'These', 'gatekeeper', 'would', 'given', 'replacement', 'needle', 'the', 'OCNEP', 'plu', 'additional', 'The', 'gatekeeper', 'would', 'then', 'bring', 'the', 'clean', 'needle', 'the', 'Santum', 'Ana', 'River', 'Trail', 'area', 'and', 'distribute', 'them', 'among', 'the', 'population', 'living', 'there', 'The', 'over', 'needle', 'collected', 'from', 'the', 'Santum', 'Ana', 'Riverbed', 'were', 'not', 'secured', 'any', 'type', 'safe', 'syringe', 'collection', 'box', 'although', 'such', 'box', 'had', 'been', 'provided', 'numerous', 'occasion', 'Orange', 'County', 'Public', 'Work', 'staff', 'would', 'find', 'the', 'syringe', 'collection', 'box', 'damagedopened', 'and', 'missing', 'effort', 'stop', 'the', 'theft', 'damage', 'the', 'collection', 'box', 'Orange', 'County', 'Public', 'Work', 'staff', 'replaced', 'the', 'plastic', 'box', 'with', 'upgraded', 'steel', 'collection', 'box', 'Despite', 'these', 'effort', 'these', 'upgraded', 'steel', 'box', 'were', 'still', 'stolen', 'and', 'broken', 'into', 'regular', 'basis', 'Petitioner', 'are', 'informed', 'and', 'believe', 'and', 'thereon', 'allege', 'that', 'while', 'operation', 'OCNEP', 'was', 'disposing', 'approximately', 'needle', 'per', 'week', 'Petitioner', 'are', 'informed', 'and', 'believe', 'and', 'thereon', 'allege', 'that', 'OCNEP', 'plan', 'distribute', 'syringe', 'one', 'for', 'one', 'plu', 'basis', 'dramatically', 'increasing', 'the', 'number', 'syringe', 'Orange', 'County', 'and', 'making', 'needle', 'giveaway', 'versu', 'exchange', 'Using', 'the', 'one', 'for', 'one', 'plu', 'rate', 'needle', 'exchange', 'the', 'collection', 'needle', 'per', 'week', 'will', 'equate', 'needle', 'released', 'into', 'the', 'community', 'per', 'week', 'During', 'the', 'time', 'period', 'that', 'OCNEP', 'operated', 'Santum', 'Ana', 'Civic', 'Center', 'OCNEP', 'did', 'not', 'register', 'small', 'quantity', 'generator', 'medical', 'waste', 'OCNEP', 'did', 'not', 'obtain', 'HCA', 'approval', 'operate', 'home']\n"
     ]
    }
   ],
   "source": [
    "#Word tokenization\n",
    "draft_case = word_tokenize(draft_case)\n",
    "\n",
    "#Depluralize all nouns\n",
    "import pattern\n",
    "from pattern.en import singularize\n",
    "\n",
    "#Find words that end with 's' that need to be handled differently than plurals\n",
    "exceptions = pd.read_csv('./preprocessing/singularized_exceptions.csv')\n",
    "exceptions_list = exceptions.to_dict('records')\n",
    "exceptions_list = exceptions_list[0]\n",
    "print(exceptions_list)\n",
    "\n",
    "#Set a function to process these words differently\n",
    "def singularize_esp(word):\n",
    "    if word in exceptions_list:\n",
    "        return exceptions_list.get(word)\n",
    "    return singularize(word)\n",
    "    \n",
    "print(singularize_esp(\"California\"))\n",
    "\n",
    "draft_case = [singularize_esp(word) for word in draft_case]\n",
    "\n",
    "print(draft_case[0:2000])\n"
   ]
  },
  {
   "cell_type": "code",
   "execution_count": 212,
   "id": "b7980ea8-dcfa-40bc-91ab-1e7959227a1e",
   "metadata": {},
   "outputs": [
    {
     "name": "stdout",
     "output_type": "stream",
     "text": [
      "['Costa', 'OCNEP', 'CEQA', 'CDPH', 'California', 'IUD', 'Los', 'Angeles', 'San', 'Francisco', 'Bernardino', 'Diego', 'Jose', 'Fresno', 'Sacramento', 'Oakland', 'Ana', 'Bakersfield', 'Santa', 'Anaheim', 'Riverside', 'Stokckton', 'Fremont', 'Irvine', 'Modesto', 'Clara', 'Clarita', 'Rosa', 'Corona', 'Glendale', 'Moreno', 'Escondido', 'Torrance', 'Pomona', 'Pasadena', 'Simi', 'Vallejo', 'Berkeley', 'Compton', 'Viejo', 'Barbara', 'Leandro', 'Monica', 'Huntington', 'Newport', 'Manhattan', 'Oxnard', 'Vista', 'Chula', 'Mesa']\n",
      "['petitioner', 'are', 'bringing', 'this', 'action', 'prevent', 'respondent', 'defendant', 'California', 'department', 'public', 'health', 'karen', 'smith', 'and', 'orange', 'county', 'needle', 'exchange', 'program', 'collectively', 'respondent', 'from', 'needle', 'exchange', 'program', 'that', 'do', 'not', 'comport', 'with', 'the', 'legal', 'requirement', 'necessary', 'ensure', 'the', 'health', 'and', 'safety', 'the', 'public', 'large', 'indeed', 'the', 'needle', 'exchange', 'program', 'authorized', 'commence', 'august', 'pose', 'serious', 'threat', 'the', 'health', 'and', 'safety', 'the', 'citizen', 'orange', 'county', 'action', 'also', 'challenge', 'the', 'orange', 'county', 'needle', 'exchange', 'program', 'violation', 'the', 'California', 'medical', 'waste', 'management', 'act', 'medical', 'waste', 'generator', 'finally', 'this', 'action', 'challenge', 'the', 'violation', 'the', 'California', 'office', 'the', 'environmental', 'quality', 'act', 'CEQA', 'respondent', 'California', 'department', 'public', 'health', 'and', 'karen', 'smith', 'hereinafter', 'state', 'respondent', 'because', 'they', 'have', 'entirely', 'required', 'environmental', 'review', 'needed', 'for', 'the', 'collection', 'and', 'disposal', 'used', 'needle', 'violation', 'the', 'California', 'medical', 'waste', 'management', 'act', 'respondent', 'orange', 'county', 'needle', 'exchange', 'program', 'OCNEP', 'for', 'failing', 'meet', 'the', 'necessary', 'requirement', 'medical', 'waste', 'generator', 'party', 'petitioner', 'and', 'plaintiff', 'county', 'orange', 'county', 'and', 'all', 'time', 'herein', 'was', 'political', 'subdivision', 'the', 'state', 'California', 'and', 'chartered', 'county', 'with', 'the', 'legal', 'ability', 'sue', 'and', 'code', 'and', 'under', 'the', 'charter', 'with', 'few', 'exception', 'the', 'general', 'law', 'the', 'state', 'California', 'apply', 'the', 'county', 'the', 'board', 'supervisor', 'the', 'legislative', 'body', 'that', 'govern', 'the', 'county', 'and', 'through', 'which', 'the', 'county', 'exercise', 'it', 'power', 'the', 'management', 'litigation', 'code', 'while', 'authorized', 'commence', 'august', 'OCNEP', 'agreed', 'that', 'will', 'not', 'commence', 'operation', 'until', 'september', 'august', 'open', 'session', 'the', 'orange', 'county', 'board', 'supervisor', 'authorized', 'this', 'litigation', 'petitioner', 'and', 'plaintiff', 'orange', 'county', 'flood', 'control', 'district', 'and', 'all', 'time', 'herein', 'was', 'body', 'corporate', 'and', 'politic', 'the', 'state', 'California', 'organized', 'and', 'existing', 'under', 'the', 'orange', 'county', 'flood', 'control', 'act', 'chapter', 'the', 'state', 'California', 'statute', 'amended', 'among', 'it', 'power', 'the', 'ability', 'sue', 'and', 'wat', 'code', 'the', 'board', 'supervisor', 'the', 'county', 'orange', 'also', 'sit', 'the', 'board', 'supervisor', 'for', 'the', 'orange', 'county', 'flood', 'control', 'district', 'petitioner', 'and', 'plaintiff', 'city', 'Costa', 'Mesa', 'and', 'all', 'time', 'herein', 'was', 'municipal', 'corporation', 'and', 'city', 'and', 'empowered', 'the', 'constitution', 'the', 'state', 'California', 'enact', 'local', 'ordinance', 'for', 'the', 'protection', 'the', 'local', 'health', 'benefit', 'and', 'welfare', 'the', 'city', 'Costa', 'sop', 'Mesa', 'was', 'incorporated', 'and', 'located', 'orange', 'county', 'California', 'august', 'the', 'city', 'council', 'the', 'city', 'Costa', 'Mesa', 'open', 'session', 'authorized', 'the', 'city', 'attorney', 'join', 'the', 'county', 'litigation', 'against', 'the', 'California', 'department', 'public', 'health', 'and', 'the', 'orange', 'county', 'needle', 'exchange', 'program', 'vote', 'petitioner', 'and', 'plaintiff', 'city', 'orange', 'and', 'all', 'time', 'herein', 'was', 'municipal', 'corporation', 'and', 'city', 'and', 'empowered', 'the', 'constitution', 'the', 'state', 'California', 'enact', 'local', 'ordinance', 'for', 'the']\n"
     ]
    }
   ],
   "source": [
    "#Remove all non-real words\n",
    "from nltk.corpus import words\n",
    "from nltk.corpus import wordnet\n",
    "\n",
    "#Define words as anything distinct in these two NLTK sets\n",
    "real_word_set = set(words.words() + list(wordnet.words()))\n",
    "\n",
    "#Want to keep certain words capitalized\n",
    "proper_nouns = pd.read_csv('./preprocessing/proper_nouns.csv', header = None)\n",
    "proper_nouns = proper_nouns.values.tolist()\n",
    "proper_nouns = proper_nouns[0]\n",
    "print(proper_nouns)\n",
    "\n",
    "def recapitalize(word):\n",
    "    if word in proper_nouns:\n",
    "        return word\n",
    "    if word.lower() in real_word_set:\n",
    "        return word.lower()   \n",
    "    else:\n",
    "        return word\n",
    "        \n",
    "draft_case = [recapitalize(word) for word in draft_case]\n",
    "        \n",
    "draft_case = [word for word in draft_case if (word in real_word_set or word in proper_nouns)]\n",
    "\n",
    "print(draft_case[0:400])"
   ]
  },
  {
   "cell_type": "code",
   "execution_count": 213,
   "id": "ab0faef0-2f9c-4cef-9c30-8b7b5b2ec576",
   "metadata": {},
   "outputs": [
    {
     "name": "stdout",
     "output_type": "stream",
     "text": [
      "<class 'list'>\n",
      "['petitioner', 'be', 'bring', 'this', 'action', 'prevent', 'respondent', 'defendant', 'California', 'department', 'public', 'health', 'karen', 'smith', 'and', 'orange', 'county', 'needle', 'exchange', 'program', 'collectively', 'respondent', 'from', 'needle', 'exchange', 'program', 'that', 'do', 'not', 'comport', 'with', 'the', 'legal', 'requirement', 'necessary', 'ensure', 'the', 'health', 'and', 'safety', 'the', 'public', 'large', 'indeed', 'the', 'needle', 'exchange', 'program', 'authorize', 'commence', 'august', 'pose', 'serious', 'threat', 'the', 'health', 'and', 'safety', 'the', 'citizen', 'orange', 'county', 'action', 'also', 'challenge', 'the', 'orange', 'county', 'needle', 'exchange', 'program', 'violation', 'the', 'California', 'medical', 'waste', 'management', 'act', 'medical', 'waste', 'generator', 'finally', 'this', 'action', 'challenge', 'the', 'violation', 'the', 'California', 'office', 'the', 'environmental', 'quality', 'act', 'CEQA', 'respondent', 'California', 'department', 'public', 'health', 'and', 'karen', 'smith', 'hereinafter', 'state', 'respondent', 'because', 'they', 'have', 'entirely', 'require', 'environmental', 'review', 'need', 'for', 'the', 'collection', 'and', 'disposal', 'use', 'needle', 'violation', 'the', 'California', 'medical', 'waste', 'management', 'act', 'respondent', 'orange', 'county', 'needle', 'exchange', 'program', 'OCNEP', 'for', 'fail', 'meet', 'the', 'necessary', 'requirement', 'medical', 'waste', 'generator', 'party', 'petitioner', 'and', 'plaintiff', 'county', 'orange', 'county', 'and', 'all', 'time', 'herein', 'wa', 'political', 'subdivision', 'the', 'state', 'California', 'and', 'charter', 'county', 'with', 'the', 'legal', 'ability', 'sue', 'and', 'code', 'and', 'under', 'the', 'charter', 'with', 'few', 'exception', 'the', 'general', 'law', 'the', 'state', 'California', 'apply', 'the', 'county', 'the', 'board', 'supervisor', 'the', 'legislative', 'body', 'that', 'govern', 'the', 'county', 'and', 'through', 'which']\n"
     ]
    }
   ],
   "source": [
    "#Lemmatization\n",
    "from nltk.stem import WordNetLemmatizer\n",
    "lemmatizer = WordNetLemmatizer()\n",
    "\n",
    "#Tag by part of speech\n",
    "from nltk import pos_tag\n",
    "tagged_word_content = pos_tag(draft_case)\n",
    "\n",
    "\n",
    "#Need to lemmatize using part of speech to ensure accuracy\n",
    "\n",
    "#Need to source this code: https://stackoverflow.com/questions/32957895/wordnetlemmatizer-not-returning-the-right-lemma-unless-pos-is-explicit-python\n",
    "def pos_lemmatize(word):\n",
    "    word = [word]\n",
    "    pos_tag_word = pos_tag(word)\n",
    "    for word, tag in pos_tag_word:\n",
    "        lemma_tag = tag[0].lower()\n",
    "        if lemma_tag in ['a', 'r', 'n', 'v']:\n",
    "            lemma_tag = lemma_tag \n",
    "        else:\n",
    "            lemma_tag = None\n",
    "        if not lemma_tag:\n",
    "             return word\n",
    "        else:\n",
    "            return lemmatizer.lemmatize(word, lemma_tag)\n",
    "\n",
    "lemmatized_output = [pos_lemmatize(word) for word in word_content_filtered]\n",
    "print(type(lemmatized_output))\n",
    "\n",
    "print(lemmatized_output[0:200])"
   ]
  },
  {
   "cell_type": "code",
   "execution_count": null,
   "id": "00b8aeab-54f2-405f-a357-98c118c81cc9",
   "metadata": {},
   "outputs": [],
   "source": []
  }
 ],
 "metadata": {
  "kernelspec": {
   "display_name": "Python 3 (ipykernel)",
   "language": "python",
   "name": "python3"
  },
  "language_info": {
   "codemirror_mode": {
    "name": "ipython",
    "version": 3
   },
   "file_extension": ".py",
   "mimetype": "text/x-python",
   "name": "python",
   "nbconvert_exporter": "python",
   "pygments_lexer": "ipython3",
   "version": "3.12.0"
  }
 },
 "nbformat": 4,
 "nbformat_minor": 5
}
