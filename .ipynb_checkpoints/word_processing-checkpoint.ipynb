{
 "cells": [
  {
   "cell_type": "code",
   "execution_count": 207,
   "id": "1fbf96e9-0ebf-46c3-a3b8-c733a934e29c",
   "metadata": {},
   "outputs": [],
   "source": [
    "#import required packages\n",
    "import nltk\n",
    "import pandas as pd\n",
    "import csv\n",
    "import re\n",
    "import numpy as np\n",
    "import os\n",
    "from nltk.tokenize import sent_tokenize\n",
    "from nltk.tokenize import word_tokenize\n",
    "from nltk import ngrams"
   ]
  },
  {
   "cell_type": "code",
   "execution_count": 208,
   "id": "142d0096-840e-492d-9086-12fc00035145",
   "metadata": {
    "scrolled": true
   },
   "outputs": [
    {
     "name": "stdout",
     "output_type": "stream",
     "text": [
      "['i', 'me', 'my', 'myself', 'we', 'our', 'ours', 'ourselves', 'you', \"you're\", \"you've\", \"you'll\", \"you'd\", 'your', 'yours', 'yourself', 'yourselves', 'he', 'him', 'his', 'himself', 'she', \"she's\", 'her', 'hers', 'herself', 'it', \"it's\", 'its', 'itself', 'they', 'them', 'their', 'theirs', 'themselves', 'what', 'which', 'who', 'whom', 'this', 'that', \"that'll\", 'these', 'those', 'am', 'is', 'are', 'was', 'were', 'be', 'been', 'being', 'have', 'has', 'had', 'having', 'do', 'does', 'did', 'doing', 'a', 'an', 'the', 'and', 'but', 'if', 'or', 'because', 'as', 'until', 'while', 'of', 'at', 'by', 'for', 'with', 'about', 'against', 'between', 'into', 'through', 'during', 'before', 'after', 'above', 'below', 'to', 'from', 'up', 'down', 'in', 'out', 'on', 'off', 'over', 'under', 'again', 'further', 'then', 'once', 'here', 'there', 'when', 'where', 'why', 'how', 'all', 'any', 'both', 'each', 'few', 'more', 'most', 'other', 'some', 'such', 'no', 'nor', 'not', 'only', 'own', 'same', 'so', 'than', 'too', 'very', 's', 't', 'can', 'will', 'just', 'don', \"don't\", 'should', \"should've\", 'now', 'd', 'll', 'm', 'o', 're', 've', 'y', 'ain', 'aren', \"aren't\", 'couldn', \"couldn't\", 'didn', \"didn't\", 'doesn', \"doesn't\", 'hadn', \"hadn't\", 'hasn', \"hasn't\", 'haven', \"haven't\", 'isn', \"isn't\", 'ma', 'mightn', \"mightn't\", 'mustn', \"mustn't\", 'needn', \"needn't\", 'shan', \"shan't\", 'shouldn', \"shouldn't\", 'wasn', \"wasn't\", 'weren', \"weren't\", 'won', \"won't\", 'wouldn', \"wouldn't\", 'could', 'would', 'esq', 'also', 'may', 'plaintiff', 'petitioner', 'defendant', 'respondent', 'action', nan]\n"
     ]
    }
   ],
   "source": [
    "from nltk.corpus import stopwords\n",
    "#Add more stopwords\n",
    "adtl_stopwords = pd.read_csv(\"./preprocessing/test_stopwords.csv\", header = None)\n",
    "adtl_stopwords = adtl_stopwords.values.tolist()\n",
    "adtl_stopwords = adtl_stopwords[0]\n",
    "\n",
    "#Combine with default stopwords list\n",
    "stopwords_def = stopwords.words('english')\n",
    "stopwords_def.extend(adtl_stopwords)\n",
    "print(stopwords_def)"
   ]
  },
  {
   "cell_type": "code",
   "execution_count": 209,
   "id": "097616d3-b692-44eb-9893-c502c07cae68",
   "metadata": {},
   "outputs": [],
   "source": [
    "#Open sample case (CEQA: 04672)\n",
    "draft_case = open(r\"./data/TEST1.txt\", \"r\")\n",
    "draft_case_original = draft_case.read()\n",
    "draft_case = draft_case_original"
   ]
  },
  {
   "cell_type": "code",
   "execution_count": 210,
   "id": "f47d02d4-14d4-43fb-aa3f-d4e1c10060cf",
   "metadata": {
    "scrolled": true
   },
   "outputs": [
    {
     "name": "stdout",
     "output_type": "stream",
     "text": [
      "Petitioners are bringing this action prevent Respondents Defendants California Department Public Health Karen Smith and Orange County Needle Exchange Program collectively Respondents from instituting needle exchange program that does not comport with the legal requirements necessary ensure the health and safety the public large Indeed the needle exchange program authorized commence August poses serious threat the health and safety the citizens Orange County This action also challenges the Orange County Needle Exchange Program violation the California Medical Waste Management Act medical waste generator Finally this action challenges the violation the California OFFICE THE UNTIKN GLNSEL Environmental Quality Act CEQA Respondents California Department Public Health and Karen Smith hereinafter State Respondents because they have entirely failed performthe required environmental review needed for the collection and disposal used needles wellthe violation the California Medical Waste Management Act Respondent Orange County Needle Exchange Program OCNEP for failing meet the necessary requirements medical waste generator PARTIES Petitioner and plaintiff County Orange County and all times herein mentioned was political subdivision the State California and chartered county with the legal ability sue and sued Gov Code and Under the Charter with few exceptions the general law the State California applies the County The Board Supervisors the legislative body that governs the County and through which the County exercises its powers including the management litigation Gov Code While authorized commence August OCNEP has agreed that will not commence operations until September August open session the Orange County Board Supervisors authorized theinitiation this litigation Petitioner and plaintiff Orange County Flood Control District and all times herein mentioned was body corporate and politic the State California organized and existing under the Orange County Flood Control Act Chapter the State California Statutes amended Among its powers the ability sue and sued Wat Code App The Board Supervisors the County Orange also sits the Board Supervisors for the Orange County Flood Control District Petitioner and plaintiff City Costa Mesa and all times herein mentioned was municipal corporation and city and empowered the Constitution the State California enact local ordinances for the protection the local health benefit and welfare The City Costa FFICEOETHE SOP HEE PIL NSEL Mesa was incorporated and located Orange County California August the City Council the City Costa Mesa open session authorized the City Attorney join the County litigation against the California Department Public Health and the Orange County Needle Exchange Program vote Petitioner and plaintiff City Orange and all times herein mentioned was municipal corporation and city and empowered the Constitution the State California enact local ordinances for the protection the local health benefit and welfare The City Orange located Orange County California August the City Orange City Council closed session reported out its City Attorney authorized the initiation thislitigation Petitioner and plaintiff City Anaheim and all times mentioned herein was municipal corporation and charter city and empowered the Constitution the State California enact local ordinances for the protection the local health benefit and welfare The City Anaheim located Orange County California August the City Council Anaheim closed session reported out its City Attorney authorized the initiation thislitigation Respondent and Defendant California Department Public Health CDPH and all times herein mentioned was state department within the California Health and Human Services Agency and was created under the laws and regulations the State California Health Safety Code CDPH charged with implementing Health and Safety Code section seq Respondent and Defendant Karen Smith Smith and all times herein mentioned was the Director CDPH and the State Public Health Officer Smith sued her official capacity the Director CDPH she has the legal duty ensure that CDPH complies with Health Safety Code section seq and other applicable laws which may include but not limited the California Environmental Quality Act Petitioners are informed and believe and thereon allege that Respondent and OFFICEFTHE COI EICIUIEL Defendant Orange County Needle Exchange Program California corporation that recently applied CDPH distribute syringes intravenous drug users the County Orange Respondents and Defendants Does through are were the agents employees contractors alter egos and entities acting under the authority each other respondent and defendant real party interest and each performed acts which this action based within the cause and scope such agency and employment Petitioners not know the true names and capacities whether individual corporate otherwise Does through inclusive and therefore sue said respondents and defendants under fictitious names Petitioners will amend their Complaint and Petition show their true names and capacities when they have been ascertained JURISDICTION AND VENUE This court has jurisdiction pursuant section article the California Constitution and Code Civil Procedure sections and Venue proper with this court Petitioners have asserted claims against department the State California and officer the State her official capacity and this action has been filed county which the Attorney General maintains offices pursuant Code Civil Procedure section BACKGROUND ACTION Statutorv and Regulatory Background California Medical Waste Management Act Part Division the Health and Safety Code commencing with Section known the Medical Waste Management Act Health Saf Code seq All medical waste generators including small quantity generators within the County Orange must register with seek approval from maintain certain documentation and records with the County Orange Health Care Agency Environmental Health HC\n"
     ]
    }
   ],
   "source": [
    "#Use regex to do a preliminary cleaning of the content\n",
    "### Remove punctuation and numbers\n",
    "draft_case = re.sub(\"[0-9]\", \"\", draft_case) #Removes numbers\n",
    "draft_case = re.sub(r\"\\/\", \" \", draft_case) #Replaces slashes with spaces\n",
    "draft_case = re.sub(r\"\\'\", \" \", draft_case) #Replaces apostrophes with spaces\n",
    "draft_case = re.sub(r\"\\-\", \" \", draft_case) #Replaces en-dash with spaces\n",
    "draft_case = re.sub(r\"\\–\", \" \", draft_case) #Replaces em-dash with spaces\n",
    "draft_case = re.sub(r\"[.,?!();:@§%&~\\[\\]\\\"]\", \"\", draft_case) #Removes extraneous punctuation\n",
    "draft_case = re.sub(r\"^$n','\\n\", \"\", draft_case, re.MULTILINE) #Removes empty lines\n",
    "draft_case = re.sub(r\"\\b\\w{1,2}\\b\", '', draft_case) #Removes all one and two-character words (none have meaning)\n",
    "draft_case = re.sub(r\"\\n\",\"\", draft_case) #Removes extraneous line breaks\n",
    "\n",
    "#Remove extraneous information about lawyers and case detail that doesn't impact the content of the case\n",
    "starting_phrase = \"PRELIMINARY STATEMENT\" #Use this as the starter for when the actual lawsuit begins\n",
    "remove_before = r'^.*?{}'.format(re.escape(starting_phrase))\n",
    "draft_case = re.sub(remove_before, \"\", draft_case, flags=re.DOTALL)\n",
    "\n",
    "#Remove \"FIRST AMENDED COMPLAINT\", which is at the bottom of every page\n",
    "draft_case = re.sub(r\"FIRST AMENDED COMPLAINT\", \"\", draft_case)\n",
    "\n",
    "#These steps are done last since other words' removal will impact them\n",
    "draft_case = re.sub(r\"\\s+\", \" \", draft_case) #Removes multiple whitespaces\n",
    "draft_case = re.sub(r\"([a-z])([A-Z])\", r\"\\1 \\2\", draft_case) #Separates words that were joined together by double spaces\n",
    "print(draft_case[0:6000])"
   ]
  },
  {
   "cell_type": "code",
   "execution_count": 211,
   "id": "9d9435b9-dd23-4374-9324-f84dbac0f077",
   "metadata": {},
   "outputs": [
    {
     "name": "stdout",
     "output_type": "stream",
     "text": [
      "{'California': 'California', 'Costa': 'Costa', 'serious': 'serious', 'fictitious': 'fictitious', 'numerous': 'numerous', 'intravenous': 'intravenous', 'process': 'process', 'this': 'this', 'has': 'has', 'virus': 'virus', 'various': 'various', 'basis': 'basis', 'business': 'business', 'thus': 'thus', 'debris': 'debris', 'excess': 'excess', 'was': 'was'}\n",
      "California\n",
      "['Petitioner', 'are', 'bringing', 'this', 'action', 'prevent', 'Respondent', 'Defendant', 'California', 'Department', 'Public', 'Health', 'Karen', 'Smith', 'and', 'Orange', 'County', 'Needle', 'Exchange', 'Program', 'collectively', 'Respondent', 'from', 'instituting', 'needle', 'exchange', 'program', 'that', 'do', 'not', 'comport', 'with', 'the', 'legal', 'requirement', 'necessary', 'ensure', 'the', 'health', 'and', 'safety', 'the', 'public', 'large', 'Indeed', 'the', 'needle', 'exchange', 'program', 'authorized', 'commence', 'August', 'pose', 'serious', 'threat', 'the', 'health', 'and', 'safety', 'the', 'citizen', 'Orange', 'County', 'Thi', 'action', 'also', 'challenge', 'the', 'Orange', 'County', 'Needle', 'Exchange', 'Program', 'violation', 'the', 'California', 'Medical', 'Waste', 'Management', 'Act', 'medical', 'waste', 'generator', 'Finally', 'this', 'action', 'challenge', 'the', 'violation', 'the', 'California', 'OFFICE', 'THE', 'UNTIKN', 'GLNSEL', 'Environmental', 'Quality', 'Act', 'CEQA', 'Respondent', 'California', 'Department', 'Public', 'Health', 'and', 'Karen', 'Smith', 'hereinafter', 'State', 'Respondent', 'because', 'they', 'have', 'entirely', 'failed', 'performthe', 'required', 'environmental', 'review', 'needed', 'for', 'the', 'collection', 'and', 'disposal', 'used', 'needle', 'wellthe', 'violation', 'the', 'California', 'Medical', 'Waste', 'Management', 'Act', 'Respondent', 'Orange', 'County', 'Needle', 'Exchange', 'Program', 'OCNEP', 'for', 'failing', 'meet', 'the', 'necessary', 'requirement', 'medical', 'waste', 'generator', 'PARTy', 'Petitioner', 'and', 'plaintiff', 'County', 'Orange', 'County', 'and', 'all', 'time', 'herein', 'mentioned', 'was', 'political', 'subdivision', 'the', 'State', 'California', 'and', 'chartered', 'county', 'with', 'the', 'legal', 'ability', 'sue', 'and', 'sued', 'Gov', 'Code', 'and', 'Under', 'the', 'Charter', 'with', 'few', 'exception', 'the', 'general', 'law', 'the', 'State', 'California', 'apply', 'the', 'County', 'The', 'Board', 'Supervisor', 'the', 'legislative', 'body', 'that', 'govern', 'the', 'County', 'and', 'through', 'which', 'the', 'County', 'exercise', 'it', 'power', 'including', 'the', 'management', 'litigation', 'Gov', 'Code', 'While', 'authorized', 'commence', 'August', 'OCNEP', 'has', 'agreed', 'that', 'will', 'not', 'commence', 'operation', 'until', 'September', 'August', 'open', 'session', 'the', 'Orange', 'County', 'Board', 'Supervisor', 'authorized', 'theinitiation', 'this', 'litigation', 'Petitioner', 'and', 'plaintiff', 'Orange', 'County', 'Flood', 'Control', 'District', 'and', 'all', 'time', 'herein', 'mentioned', 'was', 'body', 'corporate', 'and', 'politic', 'the', 'State', 'California', 'organized', 'and', 'existing', 'under', 'the', 'Orange', 'County', 'Flood', 'Control', 'Act', 'Chapter', 'the', 'State', 'California', 'Statute', 'amended', 'Among', 'it', 'power', 'the', 'ability', 'sue', 'and', 'sued', 'Wat', 'Code', 'App', 'The', 'Board', 'Supervisor', 'the', 'County', 'Orange', 'also', 'sit', 'the', 'Board', 'Supervisor', 'for', 'the', 'Orange', 'County', 'Flood', 'Control', 'District', 'Petitioner', 'and', 'plaintiff', 'City', 'Costa', 'Mesa', 'and', 'all', 'time', 'herein', 'mentioned', 'was', 'municipal', 'corporation', 'and', 'city', 'and', 'empowered', 'the', 'Constitution', 'the', 'State', 'California', 'enact', 'local', 'ordinance', 'for', 'the', 'protection', 'the', 'local', 'health', 'benefit', 'and', 'welfare', 'The', 'City', 'Costa', 'FFICEOETHE', 'SOP', 'HEE', 'PIL', 'NSEL', 'Mesa', 'was', 'incorporated', 'and', 'located', 'Orange', 'County', 'California', 'August', 'the', 'City', 'Council', 'the', 'City', 'Costa', 'Mesa', 'open', 'session', 'authorized', 'the', 'City', 'Attorney', 'join', 'the', 'County', 'litigation', 'against', 'the', 'California', 'Department', 'Public', 'Health', 'and', 'the', 'Orange', 'County', 'Needle', 'Exchange', 'Program', 'vote', 'Petitioner', 'and', 'plaintiff', 'City', 'Orange', 'and', 'all', 'time', 'herein', 'mentioned', 'was', 'municipal', 'corporation', 'and', 'city', 'and', 'empowered', 'the', 'Constitution', 'the', 'State', 'California', 'enact', 'local', 'ordinance', 'for', 'the', 'protection', 'the', 'local', 'health', 'benefit', 'and', 'welfare', 'The', 'City', 'Orange', 'located', 'Orange', 'County', 'California', 'August', 'the', 'City', 'Orange', 'City', 'Council', 'closed', 'session', 'reported', 'out', 'it', 'City', 'Attorney', 'authorized', 'the', 'initiation', 'thislitigation', 'Petitioner', 'and', 'plaintiff', 'City', 'Anaheim', 'and', 'all', 'time', 'mentioned', 'herein', 'was', 'municipal', 'corporation', 'and', 'charter', 'city', 'and', 'empowered', 'the', 'Constitution', 'the', 'State', 'California', 'enact', 'local', 'ordinance', 'for', 'the', 'protection', 'the', 'local', 'health', 'benefit', 'and', 'welfare', 'The', 'City', 'Anaheim', 'located', 'Orange', 'County', 'California', 'August', 'the', 'City', 'Council', 'Anaheim', 'closed', 'session', 'reported', 'out', 'it', 'City', 'Attorney', 'authorized', 'the', 'initiation', 'thislitigation', 'Respondent', 'and', 'Defendant', 'California', 'Department', 'Public', 'Health', 'CDPH', 'and', 'all', 'time', 'herein', 'mentioned', 'was', 'state', 'department', 'within', 'the', 'California', 'Health', 'and', 'Human', 'Service', 'Agency', 'and', 'was', 'created', 'under', 'the', 'law', 'and', 'regulation', 'the', 'State', 'California', 'Health', 'Safety', 'Code', 'CDPH', 'charged', 'with', 'implementing', 'Health', 'and', 'Safety', 'Code', 'section', 'seq', 'Respondent', 'and', 'Defendant', 'Karen', 'Smith', 'Smith', 'and', 'all', 'time', 'herein', 'mentioned', 'was', 'the', 'Director', 'CDPH', 'and', 'the', 'State', 'Public', 'Health', 'Officer', 'Smith', 'sued', 'her', 'official', 'capacity', 'the', 'Director', 'CDPH', 'she', 'has', 'the', 'legal', 'duty', 'ensure', 'that', 'CDPH', 'comply', 'with', 'Health', 'Safety', 'Code', 'section', 'seq', 'and', 'other', 'applicable', 'law', 'which', 'may', 'include', 'but', 'not', 'limited', 'the', 'California', 'Environmental', 'Quality', 'Act', 'Petitioner', 'are', 'informed', 'and', 'believe', 'and', 'thereon', 'allege', 'that', 'Respondent', 'and', 'OFFICEFTHE', 'COus', 'EICIUIEL', 'Defendant', 'Orange', 'County', 'Needle', 'Exchange', 'Program', 'California', 'corporation', 'that', 'recently', 'applied', 'CDPH', 'distribute', 'syringe', 'intravenous', 'drug', 'user', 'the', 'County', 'Orange', 'Respondent', 'and', 'Defendant', 'Do', 'through', 'are', 'were', 'the', 'agent', 'employee', 'contractor', 'alter', 'ego', 'and', 'entity', 'acting', 'under', 'the', 'authority', 'each', 'other', 'respondent', 'and', 'defendant', 'real', 'party', 'interest', 'and', 'each', 'performed', 'act', 'which', 'this', 'action', 'based', 'within', 'the', 'cause', 'and', 'scope', 'such', 'agency', 'and', 'employment', 'Petitioner', 'not', 'know', 'the', 'true', 'name', 'and', 'capacity', 'whether', 'individual', 'corporate', 'otherwise', 'Do', 'through', 'inclusive', 'and', 'therefore', 'sue', 'said', 'respondent', 'and', 'defendant', 'under', 'fictitious', 'name', 'Petitioner', 'will', 'amend', 'their', 'Complaint', 'and', 'Petition', 'show', 'their', 'true', 'name', 'and', 'capacity', 'when', 'they', 'have', 'been', 'ascertained', 'JURISDICTION', 'AND', 'VENUE', 'Thi', 'court', 'has', 'jurisdiction', 'pursuant', 'section', 'article', 'the', 'California', 'Constitution', 'and', 'Code', 'Civil', 'Procedure', 'section', 'and', 'Venue', 'proper', 'with', 'this', 'court', 'Petitioner', 'have', 'asserted', 'claim', 'against', 'department', 'the', 'State', 'California', 'and', 'officer', 'the', 'State', 'her', 'official', 'capacity', 'and', 'this', 'action', 'has', 'been', 'filed', 'county', 'which', 'the', 'Attorney', 'General', 'maintain', 'office', 'pursuant', 'Code', 'Civil', 'Procedure', 'section', 'BACKGROUND', 'ACTION', 'Statutorv', 'and', 'Regulatory', 'Background', 'California', 'Medical', 'Waste', 'Management', 'Act', 'Part', 'Division', 'the', 'Health', 'and', 'Safety', 'Code', 'commencing', 'with', 'Section', 'known', 'the', 'Medical', 'Waste', 'Management', 'Act', 'Health', 'Saf', 'Code', 'seq', 'All', 'medical', 'waste', 'generator', 'including', 'small', 'quantity', 'generator', 'within', 'the', 'County', 'Orange', 'must', 'register', 'with', 'seek', 'approval', 'from', 'maintain', 'certain', 'documentation', 'and', 'record', 'with', 'the', 'County', 'Orange', 'Health', 'Care', 'Agency', 'Environmental', 'Health', 'HCA', 'pursuant', 'the', 'Medical', 'Waste', 'Management', 'Act', 'Health', 'Saf', 'Code', 'The', 'HCATASNN', '*', 'VINDO', 'ADA', 'implement', 'and', 'the', 'enforcement', 'agency', 'for', 'the', 'Medical', 'Waste', 'Management', 'Act', 'within', 'the', 'County', 'Health', 'Saf', 'Code', 'medical', 'waste', 'generator', 'any', 'person', 'whose', 'act', 'process', 'produce', 'medical', 'waste', 'Health', 'Saf', 'Code', 'Medical', 'waste', 'include', 'sharp', 'waste', 'such', 'hypodermic', 'needle', 'hypodermic', 'needle', 'with', 'syringe', 'blade', 'needle', 'with', 'attached', 'tubing', 'acupuncture', 'needle', 'root', 'canal', 'file', 'broken', 'glas', 'item', 'used', 'health', 'care', 'such', 'Pasteur', 'pipette', 'and', 'blood', 'vial', 'contaminated', 'with', 'biohazardou', 'waste', 'and', 'any', 'item', 'capable', 'cutting', 'piercing', 'from', 'trauma', 'scene', 'waste', 'Health', 'Saf', 'Code', 'Medical', 'waste', 'also', 'include', 'waste', 'generated', 'from', 'the', 'consolidation', 'home', 'generated', 'sharp', 'Health', 'Saf', 'Code', 'Petitioner', 'are', 'willing', 'waive', 'the', 'venue', 'provision', 'contained', 'Health', 'Safety', 'Code', 'section', 'which', 'allows', 'such', 'cause', 'action', 'filed', 'the', 'county', 'where', 'violation', 'the', 'California', 'Medical', 'Waste', 'Act', 'has', 'occurred', 'about', 'occur', 'the', 'interest', 'having', 'all', 'claim', 'decided', 'the', 'same', 'time', 'the', 'alternative', 'Petitioner', 'are', 'willing', 'stipulate', 'change', 'venue', 'Orange', 'County', 'for', 'all', 'cause', 'action', 'small', 'quantity', 'generator', 'mean', 'medical', 'waste', 'generator', 'other', 'than', 'trauma', 'scene', 'waste', 'management', 'practitioner', 'that', 'generate', 'les', 'than', 'pound', 'per', 'month', 'medical', 'waste', 'Health', 'Saf', 'Code', 'OCNEP', 'needle', 'exchange', 'program', 'activity', 'including', 'the', 'disposal', 'used', 'syringe', 'and', 'sharp', 'waste', 'from', 'program', 'participant', 'are', 'subject', 'regulation', 'under', 'the', 'Medical', 'Waste', 'Management', 'Act', 'Clean', 'Needle', 'and', 'Syringe', 'Exchange', 'Program', 'Health', 'and', 'Safety', 'Code', 'section', 'provide', 'that', 'CDPH', 'may', 'authorize', 'entity', 'that', 'provide', 'certain', 'service', 'including', 'drug', 'abuse', 'treatment', 'service', 'Human', 'Immunodeficiency', 'Viru', 'HIV', 'hepatitis', 'screening', 'Hepatitis', 'and', 'Hepatitis', 'vaccination', 'OFFICE', 'OETTE', 'etc', 'provide', 'upon', 'application', 'CDPH', 'hypodermic', 'needle', 'and', 'syringe', 'exchange', 'service', 'consistent', 'with', 'state', 'standard', 'certain', 'location', 'determined', 'CDPH', 'Thi', 'commonly', 'known', 'Clean', 'Needle', 'and', 'Syringe', 'Exchange', 'Program', 'Subdivision', 'Health', 'and', 'Safety', 'Code', 'section', 'also', 'require', 'CDPH', 'consult', 'with', 'the', 'local', 'health', 'officer', 'and', 'local', 'law', 'enforcement', 'leadership', 'and', 'balance', 'the', 'concern', 'law', 'enforcement', 'with', 'the', 'public', 'healthbenefit', 'prior', 'issuing', 'the', 'authorization', 'Health', 'and', 'Safety', 'Code', 'section', 'require', 'that', 'order', 'for', 'CDPH', 'issuethe', 'authorization', 'the', 'application', 'must', 'demonstrate', 'that', 'the', 'applicant', 'comply', 'with', 'certain', 'minimum', 'standard', 'These', 'minimum', 'standard', 'include', 'establishing', 'that', 'the', 'entity', 'can', 'provide', 'certain', 'service', 'including', 'drug', 'abuse', 'treatment', 'HIV', 'hepatitis', 'screening', 'Hepatitis', 'and', 'vaccination', 'screening', 'for', 'sexually', 'transmitted', 'infection', 'etc', 'that', 'the', 'entity', 'has', 'the', 'capacity', 'commence', 'needle', 'and', 'syringe', 'exchange', 'service', 'within', 'three', 'month', 'authorization', 'that', 'theentity', 'has', 'adequate', 'funding', 'provide', 'needle', 'and', 'syringe', 'exchange', 'service', 'for', 'all', 'it', 'participant', 'provide', 'HIV', 'and', 'viral', 'hepatitis', 'prevention', 'education', 'service', 'for', 'all', 'it', 'participant', 'and', 'provide', 'for', 'the', 'safe', 'recovery', 'and', 'disposal', 'used', 'syringe', 'and', 'sharp', 'waste', 'from', 'all', 'it', 'participant', 'and', 'that', 'the', 'entity', 'has', 'the', 'capacity', 'and', 'established', 'plan', 'collectevaluative', 'datum', 'order', 'asses', 'program', 'impact', 'including', 'total', 'number', 'person', 'served', 'totalnumber', 'syringe', 'and', 'needle', 'distributed', 'recovered', 'and', 'disposed', 'and', 'total', 'number', 'and', 'type', 'referral', 'drug', 'treatment', 'and', 'other', 'service', 'Health', 'Saf', 'Code', 'CDPH', 'has', 'also', 'issued', 'rule', 'and', 'regulation', 'regarding', 'the', 'authorization', 'the', 'hypodermic', 'needle', 'and', 'syringe', 'exchange', 'service', 'See', 'Cal', 'Code', 'Reg', 'tit', 'seq', 'relate', 'the', 'application', 'title', 'section', 'the', 'Code', 'Regulation', 'set', 'forth', 'the', 'requirement', 'for', 'the', 'application', 'which', 'include', 'but', 'are', 'not', 'limited', 'description', 'service', 'anticipated', 'number', 'participant', 'served', 'each', 'year', 'estimated', 'number', 'syringe', 'dispensed', 'and', 'collected', 'each', 'year', 'copy', 'various', 'plan', 'that', 'must', 'meet', 'certain', 'regulatory', 'criteriaand', 'that', 'guide', 'the', 'operation', 'the', 'Clean', 'Needle', 'and', 'Syringe', 'Exchange', 'Program', 'well', 'collection', 'and', 'dispensing', 'needle', 'and', 'signed', 'statement', 'attesting', 'various', 'criterium', 'including', 'compliance', 'with', 'law', 'and', 'capacity', 'begin', 'syringe', 'exchange', 'service', 'within', 'day', 'FFICECOLNEENGESEL', 'addition', 'title', 'section', 'the', 'Code', 'Regulation', 'impose', 'mandatory', 'and', 'non', 'discretionary', 'duty', 'upon', 'CDPH', 'requiring', 'reject', 'application', 'any', 'the', 'followingdeficiency', 'exist', 'Information', 'submitted', 'the', 'application', 'incorrect', 'incomplete', 'The', 'applicant', 'do', 'not', 'meet', 'all', 'the', 'requirement', 'listed', 'Health', 'and', 'Safety', 'Code', 'section', 'Evidence', 'project', 'harm', 'public', 'safety', 'presented', 'local', 'law', 'enforcement', 'official', 'the', 'department', 'judgment', 'greater', 'than', 'evidence', 'projected', 'benefit', 'public', 'health', 'Finally', 'title', 'section', 'the', 'Code', 'Regulation', 'also', 'impose', 'mandatory', 'and', 'non', 'discretionary', 'duty', 'upon', 'CDPH', 'requiring', 'reject', 'application', 'unles', 'among', 'other', 'requirement', 'provide', 'for', 'the', 'safe', 'recovery', 'and', 'disposal', 'used', 'syringe', 'andsharp', 'waste', 'from', 'all', 'it', 'participant', 'The', 'Needle', 'Exchange', 'Program', 'Santum', 'Ana', 'OCNEP', 'became', 'the', 'first', 'needle', 'exchange', 'program', 'Orange', 'County', 'when', 'was', 'approved', 'for', 'operation', 'the', 'City', 'Santum', 'Ana', 'CDPH', 'Citing', 'public', 'health', 'risk', 'the', 'City', 'Santum', 'Ana', 'terminated', 'the', 'Memorandum', 'Understanding', 'between', 'the', 'City', 'Santum', 'Anaand', 'OCNEP', 'after', 'allowing', 'the', 'program', 'operate', 'the', 'Santum', 'Ana', 'Civic', 'Center', 'from', 'February', 'January', 'Thi', 'was', 'primarily', 'due', 'various', 'public', 'health', 'threat', 'posed', 'sharp', 'increase', 'discarded', 'syringe', 'the', 'Santum', 'Ana', 'Civic', 'Center', 'During', 'the', 'time', 'period', 'that', 'OCNEP', 'operated', 'the', 'Santum', 'Ana', 'Civic', 'Center', 'Santum', 'Ana', 'Public', 'Library', 'staff', 'reported', 'finding', 'many', 'discarded', 'syringe', 'the', 'property', 'per', 'month', 'including', 'shelve', 'near', 'player', 'window', 'sill', 'and', 'even', 'inside', 'book', 'posing', 'threat', 'patron', 'City', 'Santum', 'Ana', 'employee', 'were', 'also', 'pricked', 'discarded', 'needle', 'which', 'littered', 'park', 'and', 'sidewalk', 'Prior', 'that', 'time', 'Petitioner', 'are', 'informed', 'and', 'believe', 'and', 'thereon', 'allegethat', 'staff', 'rarely', 'found', 'syringe', 'the', 'facility', 'During', 'the', 'Environmental', 'Remediation', 'Project', 'along', 'the', 'Santum', 'Ana', 'River', 'Trail', 'approximately', 'dirty', 'needle', 'were', 'removed', 'from', 'les', 'than', 'fmy', 'mile', 'stretch', 'two', 'week', 'period', 'Outreach', 'and', 'Engagement', 'program', 'under', 'Orange', 'County', 'Health', 'CUIDNVHO', 'ALNNO', 'OFFICE', 'THE', 'COUNTY', 'COUN', 'Care', 'Agency', 'umbrella', 'provided', 'service', 'the', 'population', 'encamped', 'the', 'Santum', 'Ana', 'River', 'Trail', 'area', 'Petitioner', 'are', 'informed', 'and', 'believe', 'and', 'thereon', 'allege', 'that', 'approximately', 'needle', 'collected', 'from', 'the', 'Santum', 'Ana', 'River', 'Trail', 'area', 'included', 'needle', 'distributed', 'OCNEP', 'Petitioner', 'are', 'informed', 'and', 'believe', 'and', 'thereon', 'allege', 'that', 'individual', 'known', 'gatekeeper', 'would', 'collect', 'all', 'the', 'dirty', 'needle', 'they', 'could', 'find', 'from', 'the', 'Santum', 'Ana', 'River', 'Trail', 'and', 'bring', 'them', 'the', 'OCNEP', 'the', 'City', 'Santum', 'Ana', 'These', 'gatekeeper', 'would', 'given', 'replacement', 'needle', 'the', 'OCNEP', 'plu', 'additional', 'The', 'gatekeeper', 'would', 'then', 'bring', 'the', 'clean', 'needle', 'the', 'Santum', 'Ana', 'River', 'Trail', 'area', 'and', 'distribute', 'them', 'among', 'the', 'population', 'living', 'there', 'The', 'over', 'needle', 'collected', 'from', 'the', 'Santum', 'Ana', 'Riverbed', 'were', 'not', 'secured', 'any', 'type', 'safe', 'syringe', 'collection', 'box', 'although', 'such', 'box', 'had', 'been', 'provided', 'numerous', 'occasion', 'Orange', 'County', 'Public', 'Work', 'staff', 'would', 'find', 'the', 'syringe', 'collection', 'box', 'damagedopened', 'and', 'missing', 'effort', 'stop', 'the', 'theft', 'damage', 'the', 'collection', 'box', 'Orange', 'County', 'Public', 'Work', 'staff', 'replaced', 'the', 'plastic', 'box', 'with', 'upgraded', 'steel', 'collection', 'box', 'Despite', 'these', 'effort', 'these', 'upgraded', 'steel', 'box', 'were', 'still', 'stolen', 'and', 'broken', 'into', 'regular', 'basis', 'Petitioner', 'are', 'informed', 'and', 'believe', 'and', 'thereon', 'allege', 'that', 'while', 'operation', 'OCNEP', 'was', 'disposing', 'approximately', 'needle', 'per', 'week', 'Petitioner', 'are', 'informed', 'and', 'believe', 'and', 'thereon', 'allege', 'that', 'OCNEP', 'plan', 'distribute', 'syringe', 'one', 'for', 'one', 'plu', 'basis', 'dramatically', 'increasing', 'the', 'number', 'syringe', 'Orange', 'County', 'and', 'making', 'needle', 'giveaway', 'versu', 'exchange', 'Using', 'the', 'one', 'for', 'one', 'plu', 'rate', 'needle', 'exchange', 'the', 'collection', 'needle', 'per', 'week', 'will', 'equate', 'needle', 'released', 'into', 'the', 'community', 'per', 'week', 'During', 'the', 'time', 'period', 'that', 'OCNEP', 'operated', 'Santum', 'Ana', 'Civic', 'Center', 'OCNEP', 'did', 'not', 'register', 'small', 'quantity', 'generator', 'medical', 'waste', 'OCNEP', 'did', 'not', 'obtain', 'HCA', 'approval', 'operate', 'home']\n"
     ]
    }
   ],
   "source": [
    "#Word tokenization\n",
    "draft_case = word_tokenize(draft_case)\n",
    "\n",
    "#Depluralize all nouns\n",
    "import pattern\n",
    "from pattern.en import singularize\n",
    "\n",
    "#Find words that end with 's' that need to be handled differently than plurals\n",
    "exceptions = pd.read_csv('./preprocessing/singularized_exceptions.csv')\n",
    "exceptions_list = exceptions.to_dict('records')\n",
    "exceptions_list = exceptions_list[0]\n",
    "print(exceptions_list)\n",
    "\n",
    "#Set a function to process these words differently\n",
    "def singularize_esp(word):\n",
    "    if word in exceptions_list:\n",
    "        return exceptions_list.get(word)\n",
    "    return singularize(word)\n",
    "    \n",
    "print(singularize_esp(\"California\"))\n",
    "\n",
    "draft_case = [singularize_esp(word) for word in draft_case]\n",
    "\n",
    "print(draft_case[0:2000])\n"
   ]
  },
  {
   "cell_type": "code",
   "execution_count": 212,
   "id": "b7980ea8-dcfa-40bc-91ab-1e7959227a1e",
   "metadata": {},
   "outputs": [
    {
     "name": "stdout",
     "output_type": "stream",
     "text": [
      "['Costa', 'OCNEP', 'CEQA', 'CDPH', 'California', 'IUD', 'Los', 'Angeles', 'San', 'Francisco', 'Bernardino', 'Diego', 'Jose', 'Fresno', 'Sacramento', 'Oakland', 'Ana', 'Bakersfield', 'Santa', 'Anaheim', 'Riverside', 'Stokckton', 'Fremont', 'Irvine', 'Modesto', 'Clara', 'Clarita', 'Rosa', 'Corona', 'Glendale', 'Moreno', 'Escondido', 'Torrance', 'Pomona', 'Pasadena', 'Simi', 'Vallejo', 'Berkeley', 'Compton', 'Viejo', 'Barbara', 'Leandro', 'Monica', 'Huntington', 'Newport', 'Manhattan', 'Oxnard', 'Vista', 'Chula', 'Mesa']\n",
      "['petitioner', 'are', 'bringing', 'this', 'action', 'prevent', 'respondent', 'defendant', 'California', 'department', 'public', 'health', 'karen', 'smith', 'and', 'orange', 'county', 'needle', 'exchange', 'program', 'collectively', 'respondent', 'from', 'needle', 'exchange', 'program', 'that', 'do', 'not', 'comport', 'with', 'the', 'legal', 'requirement', 'necessary', 'ensure', 'the', 'health', 'and', 'safety', 'the', 'public', 'large', 'indeed', 'the', 'needle', 'exchange', 'program', 'authorized', 'commence', 'august', 'pose', 'serious', 'threat', 'the', 'health', 'and', 'safety', 'the', 'citizen', 'orange', 'county', 'action', 'also', 'challenge', 'the', 'orange', 'county', 'needle', 'exchange', 'program', 'violation', 'the', 'California', 'medical', 'waste', 'management', 'act', 'medical', 'waste', 'generator', 'finally', 'this', 'action', 'challenge', 'the', 'violation', 'the', 'California', 'office', 'the', 'environmental', 'quality', 'act', 'CEQA', 'respondent', 'California', 'department', 'public', 'health', 'and', 'karen', 'smith', 'hereinafter', 'state', 'respondent', 'because', 'they', 'have', 'entirely', 'required', 'environmental', 'review', 'needed', 'for', 'the', 'collection', 'and', 'disposal', 'used', 'needle', 'violation', 'the', 'California', 'medical', 'waste', 'management', 'act', 'respondent', 'orange', 'county', 'needle', 'exchange', 'program', 'OCNEP', 'for', 'failing', 'meet', 'the', 'necessary', 'requirement', 'medical', 'waste', 'generator', 'party', 'petitioner', 'and', 'plaintiff', 'county', 'orange', 'county', 'and', 'all', 'time', 'herein', 'was', 'political', 'subdivision', 'the', 'state', 'California', 'and', 'chartered', 'county', 'with', 'the', 'legal', 'ability', 'sue', 'and', 'code', 'and', 'under', 'the', 'charter', 'with', 'few', 'exception', 'the', 'general', 'law', 'the', 'state', 'California', 'apply', 'the', 'county', 'the', 'board', 'supervisor', 'the', 'legislative', 'body', 'that', 'govern', 'the', 'county', 'and', 'through', 'which', 'the', 'county', 'exercise', 'it', 'power', 'the', 'management', 'litigation', 'code', 'while', 'authorized', 'commence', 'august', 'OCNEP', 'agreed', 'that', 'will', 'not', 'commence', 'operation', 'until', 'september', 'august', 'open', 'session', 'the', 'orange', 'county', 'board', 'supervisor', 'authorized', 'this', 'litigation', 'petitioner', 'and', 'plaintiff', 'orange', 'county', 'flood', 'control', 'district', 'and', 'all', 'time', 'herein', 'was', 'body', 'corporate', 'and', 'politic', 'the', 'state', 'California', 'organized', 'and', 'existing', 'under', 'the', 'orange', 'county', 'flood', 'control', 'act', 'chapter', 'the', 'state', 'California', 'statute', 'amended', 'among', 'it', 'power', 'the', 'ability', 'sue', 'and', 'wat', 'code', 'the', 'board', 'supervisor', 'the', 'county', 'orange', 'also', 'sit', 'the', 'board', 'supervisor', 'for', 'the', 'orange', 'county', 'flood', 'control', 'district', 'petitioner', 'and', 'plaintiff', 'city', 'Costa', 'Mesa', 'and', 'all', 'time', 'herein', 'was', 'municipal', 'corporation', 'and', 'city', 'and', 'empowered', 'the', 'constitution', 'the', 'state', 'California', 'enact', 'local', 'ordinance', 'for', 'the', 'protection', 'the', 'local', 'health', 'benefit', 'and', 'welfare', 'the', 'city', 'Costa', 'sop', 'Mesa', 'was', 'incorporated', 'and', 'located', 'orange', 'county', 'California', 'august', 'the', 'city', 'council', 'the', 'city', 'Costa', 'Mesa', 'open', 'session', 'authorized', 'the', 'city', 'attorney', 'join', 'the', 'county', 'litigation', 'against', 'the', 'California', 'department', 'public', 'health', 'and', 'the', 'orange', 'county', 'needle', 'exchange', 'program', 'vote', 'petitioner', 'and', 'plaintiff', 'city', 'orange', 'and', 'all', 'time', 'herein', 'was', 'municipal', 'corporation', 'and', 'city', 'and', 'empowered', 'the', 'constitution', 'the', 'state', 'California', 'enact', 'local', 'ordinance', 'for', 'the']\n"
     ]
    }
   ],
   "source": [
    "#Remove all non-real words\n",
    "from nltk.corpus import words\n",
    "from nltk.corpus import wordnet\n",
    "\n",
    "#Define words as anything distinct in these two NLTK sets\n",
    "real_word_set = set(words.words() + list(wordnet.words()))\n",
    "\n",
    "#Want to keep certain words capitalized\n",
    "proper_nouns = pd.read_csv('./preprocessing/proper_nouns.csv', header = None)\n",
    "proper_nouns = proper_nouns.values.tolist()\n",
    "proper_nouns = proper_nouns[0]\n",
    "print(proper_nouns)\n",
    "\n",
    "def recapitalize(word):\n",
    "    if word in proper_nouns:\n",
    "        return word\n",
    "    if word.lower() in real_word_set:\n",
    "        return word.lower()   \n",
    "    else:\n",
    "        return word\n",
    "        \n",
    "draft_case = [recapitalize(word) for word in draft_case]\n",
    "        \n",
    "draft_case = [word for word in draft_case if (word in real_word_set or word in proper_nouns)]\n",
    "\n",
    "print(draft_case[0:400])"
   ]
  },
  {
   "cell_type": "code",
   "execution_count": 196,
   "id": "ab0faef0-2f9c-4cef-9c30-8b7b5b2ec576",
   "metadata": {},
   "outputs": [
    {
     "name": "stdout",
     "output_type": "stream",
     "text": [
      "<class 'list'>\n",
      "['petitioner', 'be', 'bring', 'this', 'action', 'prevent', 'respondent', 'defendant', 'California', 'department', 'public', 'health', 'karen', 'smith', 'and', 'orange', 'county', 'needle', 'exchange', 'program', 'collectively', 'respondent', 'from', 'needle', 'exchange', 'program', 'that', 'do', 'not', 'comport', 'with', 'the', 'legal', 'requirement', 'necessary', 'ensure', 'the', 'health', 'and', 'safety', 'the', 'public', 'large', 'indeed', 'the', 'needle', 'exchange', 'program', 'authorize', 'commence', 'august', 'pose', 'serious', 'threat', 'the', 'health', 'and', 'safety', 'the', 'citizen', 'orange', 'county', 'action', 'also', 'challenge', 'the', 'orange', 'county', 'needle', 'exchange', 'program', 'violation', 'the', 'California', 'medical', 'waste', 'management', 'act', 'medical', 'waste', 'generator', 'finally', 'this', 'action', 'challenge', 'the', 'violation', 'the', 'California', 'office', 'the', 'environmental', 'quality', 'act', 'CEQA', 'respondent', 'California', 'department', 'public', 'health', 'and', 'karen', 'smith', 'hereinafter', 'state', 'respondent', 'because', 'they', 'have', 'entirely', 'require', 'environmental', 'review', 'need', 'for', 'the', 'collection', 'and', 'disposal', 'use', 'needle', 'violation', 'the', 'California', 'medical', 'waste', 'management', 'act', 'respondent', 'orange', 'county', 'needle', 'exchange', 'program', 'OCNEP', 'for', 'fail', 'meet', 'the', 'necessary', 'requirement', 'medical', 'waste', 'generator', 'party', 'petitioner', 'and', 'plaintiff', 'county', 'orange', 'county', 'and', 'all', 'time', 'herein', 'wa', 'political', 'subdivision', 'the', 'state', 'California', 'and', 'charter', 'county', 'with', 'the', 'legal', 'ability', 'sue', 'and', 'code', 'and', 'under', 'the', 'charter', 'with', 'few', 'exception', 'the', 'general', 'law', 'the', 'state', 'California', 'apply', 'the', 'county', 'the', 'board', 'supervisor', 'the', 'legislative', 'body', 'that', 'govern', 'the', 'county', 'and', 'through', 'which']\n"
     ]
    }
   ],
   "source": [
    "#Lemmatization\n",
    "from nltk.stem import WordNetLemmatizer\n",
    "lemmatizer = WordNetLemmatizer()\n",
    "\n",
    "#Tag by part of speech\n",
    "from nltk import pos_tag\n",
    "tagged_word_content = pos_tag(word_content_filtered)\n",
    "\n",
    "\n",
    "#Need to lemmatize using part of speech to ensure accuracy\n",
    "\n",
    "#Need to source this code: https://stackoverflow.com/questions/32957895/wordnetlemmatizer-not-returning-the-right-lemma-unless-pos-is-explicit-python\n",
    "def pos_lemmatize(word):\n",
    "    word = [word]\n",
    "    pos_tag_word = pos_tag(word)\n",
    "    for word, tag in pos_tag_word:\n",
    "        lemma_tag = tag[0].lower()\n",
    "        if lemma_tag in ['a', 'r', 'n', 'v']:\n",
    "            lemma_tag = lemma_tag \n",
    "        else:\n",
    "            lemma_tag = None\n",
    "        if not lemma_tag:\n",
    "             return word\n",
    "        else:\n",
    "            return lemmatizer.lemmatize(word, lemma_tag)\n",
    "\n",
    "lemmatized_output = [pos_lemmatize(word) for word in word_content_filtered]\n",
    "print(type(lemmatized_output))\n",
    "\n",
    "print(lemmatized_output[0:200])"
   ]
  },
  {
   "cell_type": "code",
   "execution_count": null,
   "id": "00b8aeab-54f2-405f-a357-98c118c81cc9",
   "metadata": {},
   "outputs": [],
   "source": [
    "#Create n-grams\n"
   ]
  }
 ],
 "metadata": {
  "kernelspec": {
   "display_name": "Python 3 (ipykernel)",
   "language": "python",
   "name": "python3"
  },
  "language_info": {
   "codemirror_mode": {
    "name": "ipython",
    "version": 3
   },
   "file_extension": ".py",
   "mimetype": "text/x-python",
   "name": "python",
   "nbconvert_exporter": "python",
   "pygments_lexer": "ipython3",
   "version": "3.12.0"
  }
 },
 "nbformat": 4,
 "nbformat_minor": 5
}
